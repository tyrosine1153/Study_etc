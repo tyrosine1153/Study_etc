{
  "nbformat": 4,
  "nbformat_minor": 0,
  "metadata": {
    "colab": {
      "name": "실습3-Boston.ipynb",
      "provenance": [],
      "collapsed_sections": []
    },
    "kernelspec": {
      "name": "python3",
      "display_name": "Python 3"
    }
  },
  "cells": [
    {
      "cell_type": "markdown",
      "metadata": {
        "id": "lKPKbVAq7b_N"
      },
      "source": [
        "# Boston"
      ]
    },
    {
      "cell_type": "markdown",
      "metadata": {
        "id": "H7gAv5nl72kj"
      },
      "source": [
        "표의 각 열이 뜻하는 것\r\n",
        "- crim : 범죄율\r\n",
        "- chas\t: 찰스강 강변과 가까운 여부\r\n",
        "- rm\t: 평균 방 수\r\n",
        "- age\t: 노후주택 비율\r\n",
        "- tax\t: 재산세율\r\n",
        "- ptratio\t: 학생/교사 비율\r\n",
        "- lstat\t: 하위계층 비율\r\n",
        "- medv : 집값의 중앙값\r\n",
        "\r\n",
        "표에서 나오는 열중 앞의 13개는 독립변수 마지막 한 열은 종속변수가 된다."
      ]
    },
    {
      "cell_type": "markdown",
      "metadata": {
        "id": "SwLW4LVs-G0X"
      },
      "source": [
        "13개의 입력을 받는 입력층과 1개의 출력을 하는 출력층을 만든다.  \r\n",
        "y = W1X1 + W2X2 + ... + W13X13 + b 의 수식을 만들어내며, \r\n",
        "위의 수식은 퍼셉트론(Perceptron)의 형식인데, 퍼셉트론은 다수의 신호(Input)을 입력받아서 하나의 신호(Output)을 출력하는 알고리즘이다.  \r\n",
        "신경 세포 뉴런의 동작과 유사하고, 뉴런은 가지돌기에서 신호를 받아들이고 신호가 일정치 이상의 크기를 가지면 축삭돌기를 통해서 신호를 전달한다.  \r\n",
        "또, 위의 수식에서 W의 값을 가중치(weight)라고 하며 가중치는 각각의 입력값에 부여되어 입력 신호와 계산을 하고 결과를 나타낸다. 가중치가 클수록 해당 입력값은 중요하다고 할 수 있다.  \r\n",
        "각 입력값이 가중치와 곱해져 인공 뉴런에 보내지고 각 입력값과 가중치의 곱의 전체 합이 임계치를 넘으면 인공 뉴런은 1을 출력신호로 보내고 그렇지 않으면 0을 출력하는데 이런 함수를 계단함수라고 한다.  \r\n",
        "위의 수식에서는 임계치를 좌변으로 옮기고 편향 b(bias)로 표현할 수도 있다.\r\n",
        "컴퓨터는 학습동안 W값들과 b를 찾는다.\r\n"
      ]
    },
    {
      "cell_type": "markdown",
      "metadata": {
        "id": "S55Jf-BZD_cU"
      },
      "source": [
        "14개의 변수 중 12개의 독립변수와 2개의 종속변수가 있다고 가정하면 필요한 퍼셉트론은 두개이며, 가중치 24개. 편향 2개를 구해야 한다."
      ]
    },
    {
      "cell_type": "markdown",
      "metadata": {
        "id": "K4A-fNH39dPM"
      },
      "source": [
        "## 1. 과거의 데이터를 준비한다."
      ]
    },
    {
      "cell_type": "code",
      "metadata": {
        "id": "KExJHAAv67Qp"
      },
      "source": [
        "import pandas as pd\r\n",
        "import tensorflow as tf\r\n",
        "\r\n",
        "boston = pd.read_csv('boston.csv')\r\n",
        "# print(boston.columns)\r\n",
        "# boston.head()\r\n",
        "\r\n",
        "indep = boston[['crim', 'zn', 'indus', 'chas', 'nox', 'rm', 'age', 'dis', 'rad', 'tax',\r\n",
        "       'ptratio', 'b', 'lstat']]\r\n",
        "dep = boston[['medv']]"
      ],
      "execution_count": 8,
      "outputs": []
    },
    {
      "cell_type": "markdown",
      "metadata": {
        "id": "kv120bNA9iaQ"
      },
      "source": [
        "## 2. 모델의 구조를 만든다."
      ]
    },
    {
      "cell_type": "code",
      "metadata": {
        "id": "uEO3uPqS9inZ"
      },
      "source": [
        "X = tf.keras.layers.Input(shape=[13])\r\n",
        "Y = tf.keras.layers.Dense(1)(X)\r\n",
        "model = tf.keras.models.Model(X, Y)\r\n",
        "model.compile(loss='mse')"
      ],
      "execution_count": 10,
      "outputs": []
    },
    {
      "cell_type": "markdown",
      "metadata": {
        "id": "kUPWdH0K9iuV"
      },
      "source": [
        "## 3. 데이터로 모델을 학습(fit)한다."
      ]
    },
    {
      "cell_type": "code",
      "metadata": {
        "id": "9jM5fJ139ooT"
      },
      "source": [
        "model.fit(indep,dep,epochs=1000,verbose=0)\r\n",
        "model.fit(indep,dep,epochs=10)"
      ],
      "execution_count": null,
      "outputs": []
    },
    {
      "cell_type": "markdown",
      "metadata": {
        "id": "I3QsOoyM9pPl"
      },
      "source": [
        "## 4. 모델을 사용한다"
      ]
    },
    {
      "cell_type": "code",
      "metadata": {
        "id": "cGqXsfpd96BI",
        "colab": {
          "base_uri": "https://localhost:8080/"
        },
        "outputId": "d434ce56-ba25-4259-ff1f-184edc8e0755"
      },
      "source": [
        "model.predict(indep[0:5])"
      ],
      "execution_count": 15,
      "outputs": [
        {
          "output_type": "execute_result",
          "data": {
            "text/plain": [
              "array([[28.43221 ],\n",
              "       [24.002485],\n",
              "       [29.544516],\n",
              "       [28.929146],\n",
              "       [28.262196]], dtype=float32)"
            ]
          },
          "metadata": {
            "tags": []
          },
          "execution_count": 15
        }
      ]
    },
    {
      "cell_type": "code",
      "metadata": {
        "colab": {
          "base_uri": "https://localhost:8080/",
          "height": 204
        },
        "id": "llAAYrURIdzC",
        "outputId": "4d4c5c75-67df-461a-9fc1-4e7d4e5cab46"
      },
      "source": [
        "dep[0:5]"
      ],
      "execution_count": 16,
      "outputs": [
        {
          "output_type": "execute_result",
          "data": {
            "text/html": [
              "<div>\n",
              "<style scoped>\n",
              "    .dataframe tbody tr th:only-of-type {\n",
              "        vertical-align: middle;\n",
              "    }\n",
              "\n",
              "    .dataframe tbody tr th {\n",
              "        vertical-align: top;\n",
              "    }\n",
              "\n",
              "    .dataframe thead th {\n",
              "        text-align: right;\n",
              "    }\n",
              "</style>\n",
              "<table border=\"1\" class=\"dataframe\">\n",
              "  <thead>\n",
              "    <tr style=\"text-align: right;\">\n",
              "      <th></th>\n",
              "      <th>medv</th>\n",
              "    </tr>\n",
              "  </thead>\n",
              "  <tbody>\n",
              "    <tr>\n",
              "      <th>0</th>\n",
              "      <td>24.0</td>\n",
              "    </tr>\n",
              "    <tr>\n",
              "      <th>1</th>\n",
              "      <td>21.6</td>\n",
              "    </tr>\n",
              "    <tr>\n",
              "      <th>2</th>\n",
              "      <td>34.7</td>\n",
              "    </tr>\n",
              "    <tr>\n",
              "      <th>3</th>\n",
              "      <td>33.4</td>\n",
              "    </tr>\n",
              "    <tr>\n",
              "      <th>4</th>\n",
              "      <td>36.2</td>\n",
              "    </tr>\n",
              "  </tbody>\n",
              "</table>\n",
              "</div>"
            ],
            "text/plain": [
              "   medv\n",
              "0  24.0\n",
              "1  21.6\n",
              "2  34.7\n",
              "3  33.4\n",
              "4  36.2"
            ]
          },
          "metadata": {
            "tags": []
          },
          "execution_count": 16
        }
      ]
    },
    {
      "cell_type": "code",
      "metadata": {
        "colab": {
          "base_uri": "https://localhost:8080/"
        },
        "id": "TvvgUgyVJn1T",
        "outputId": "50cc1294-4528-49b7-dc67-6a222ae747b6"
      },
      "source": [
        "# 모델의 수식 확인\r\n",
        "model.get_weights()"
      ],
      "execution_count": 17,
      "outputs": [
        {
          "output_type": "execute_result",
          "data": {
            "text/plain": [
              "[array([[-0.08977454],\n",
              "        [ 0.07853018],\n",
              "        [-0.05501109],\n",
              "        [ 3.3870838 ],\n",
              "        [ 1.221282  ],\n",
              "        [ 3.794464  ],\n",
              "        [ 0.01948548],\n",
              "        [-0.8819538 ],\n",
              "        [ 0.14201196],\n",
              "        [-0.01050032],\n",
              "        [ 0.07973035],\n",
              "        [ 0.01555206],\n",
              "        [-0.59749454]], dtype=float32), array([2.4265182], dtype=float32)]"
            ]
          },
          "metadata": {
            "tags": []
          },
          "execution_count": 17
        }
      ]
    },
    {
      "cell_type": "markdown",
      "metadata": {
        "id": "wappcQV6KCJg"
      },
      "source": [
        "집값 = -0.08977454 * X1   \r\n",
        "\\+ 0.07853018 * X2   \r\n",
        "\\+ -0.05501109 * X3   \r\n",
        "\\+ 3.3870838 * X4   \r\n",
        "\\+ 1.221282 * X5   \r\n",
        "\\+ 3.794464 * X6   \r\n",
        "\\+ 0.01948548 * X7   \r\n",
        "\\+ -0.8819538 * X8   \r\n",
        "\\+ 0.14201196 * X9   \r\n",
        "\\+ -0.01050032 * X10   \r\n",
        "\\+ 0.07973035 * X11   \r\n",
        "\\+ 0.01555206 * X12   \r\n",
        "\\+ -0.59749454 * X13   \r\n",
        "\\+ 2.4265182"
      ]
    }
  ]
}