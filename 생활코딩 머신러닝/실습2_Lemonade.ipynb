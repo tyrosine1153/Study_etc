{
  "nbformat": 4,
  "nbformat_minor": 0,
  "metadata": {
    "colab": {
      "name": "실습2-Lemonade.ipynb",
      "provenance": [],
      "collapsed_sections": []
    },
    "kernelspec": {
      "name": "python3",
      "display_name": "Python 3"
    }
  },
  "cells": [
    {
      "cell_type": "markdown",
      "metadata": {
        "id": "jN94-rLmDF2e"
      },
      "source": [
        "# Lemonade"
      ]
    },
    {
      "cell_type": "markdown",
      "metadata": {
        "id": "ErtOqtkaDMOw"
      },
      "source": [
        "지도학습의 과정\r\n",
        "1. 과거의 데이터를 준비한다.\r\n",
        "2. 모델의 구조를 만든다.\r\n",
        "3. 데이터로 모델을 학습(fit)한다.\r\n",
        "4. 모델을 사용한다."
      ]
    },
    {
      "cell_type": "markdown",
      "metadata": {
        "id": "MhfiC2ZvDSYV"
      },
      "source": [
        "## 1. 과거의 데이터를 준비한다."
      ]
    },
    {
      "cell_type": "code",
      "metadata": {
        "id": "aGjJvz4VB9ay",
        "colab": {
          "base_uri": "https://localhost:8080/"
        },
        "outputId": "f11c5f14-a74d-4ebd-8aff-fda2754954ab"
      },
      "source": [
        "import pandas as pd\r\n",
        "import tensorflow as tf\r\n",
        "\r\n",
        "lemonade = pd.read_csv('lemonade.csv')\r\n",
        "\r\n",
        "indep = lemonade[['온도']]\r\n",
        "dep = lemonade[['판매량']]\r\n",
        "\r\n",
        "print(lemonade)"
      ],
      "execution_count": 22,
      "outputs": [
        {
          "output_type": "stream",
          "text": [
            "   온도  판매량\n",
            "0  20   40\n",
            "1  21   42\n",
            "2  22   44\n",
            "3  23   46\n",
            "4  24   48\n",
            "5  25   50\n"
          ],
          "name": "stdout"
        }
      ]
    },
    {
      "cell_type": "markdown",
      "metadata": {
        "id": "UBVLQb6TDVZ-"
      },
      "source": [
        "## 2. 모델의 구조를 만든다."
      ]
    },
    {
      "cell_type": "code",
      "metadata": {
        "id": "CVQhnFvoDwQS"
      },
      "source": [
        "X = tf.keras.layers.Input(shape=[1])  # shape=[n] 독립변수의 개수\r\n",
        "Y = tf.keras.layers.Dense(1)(X)  # Dense(n)(a) 종속변수의 개수, 독립변수\r\n",
        "model = tf.keras.models.Model(X, Y)\r\n",
        "model.compile(loss='mse')  # compile(loss=str) 학습 방법"
      ],
      "execution_count": 18,
      "outputs": []
    },
    {
      "cell_type": "markdown",
      "metadata": {
        "id": "SLfS7UTqDwYn"
      },
      "source": [
        "## 3. 데이터로 모델을 학습(fit)한다.\r\n",
        "출력된 값중 loss의 값이 0에 가까울 때까지 학습 해야함"
      ]
    },
    {
      "cell_type": "code",
      "metadata": {
        "colab": {
          "base_uri": "https://localhost:8080/"
        },
        "id": "scqXoIe0DwfL",
        "outputId": "baf9723e-fb4d-49c2-e3f1-dce281b0f30e"
      },
      "source": [
        "model.fit(indep,dep,epochs=10000, verbose=0)  # epochs=n 학습 횟수, verbose=n 출력 횟수\r\n",
        "model.fit(indep,dep,epochs=10)"
      ],
      "execution_count": 20,
      "outputs": [
        {
          "output_type": "stream",
          "text": [
            "Epoch 1/10\n",
            "1/1 [==============================] - 0s 4ms/step - loss: 7.5171e-04\n",
            "Epoch 2/10\n",
            "1/1 [==============================] - 0s 7ms/step - loss: 7.5125e-04\n",
            "Epoch 3/10\n",
            "1/1 [==============================] - 0s 5ms/step - loss: 7.5086e-04\n",
            "Epoch 4/10\n",
            "1/1 [==============================] - 0s 7ms/step - loss: 7.5038e-04\n",
            "Epoch 5/10\n",
            "1/1 [==============================] - 0s 4ms/step - loss: 7.4979e-04\n",
            "Epoch 6/10\n",
            "1/1 [==============================] - 0s 4ms/step - loss: 7.4915e-04\n",
            "Epoch 7/10\n",
            "1/1 [==============================] - 0s 4ms/step - loss: 7.4860e-04\n",
            "Epoch 8/10\n",
            "1/1 [==============================] - 0s 4ms/step - loss: 7.4803e-04\n",
            "Epoch 9/10\n",
            "1/1 [==============================] - 0s 4ms/step - loss: 7.4739e-04\n",
            "Epoch 10/10\n",
            "1/1 [==============================] - 0s 4ms/step - loss: 7.4676e-04\n"
          ],
          "name": "stdout"
        },
        {
          "output_type": "execute_result",
          "data": {
            "text/plain": [
              "<tensorflow.python.keras.callbacks.History at 0x7fcbc2557550>"
            ]
          },
          "metadata": {
            "tags": []
          },
          "execution_count": 20
        }
      ]
    },
    {
      "cell_type": "markdown",
      "metadata": {
        "id": "M5-ltS-eDwlb"
      },
      "source": [
        "## 4. 모델을 사용한다."
      ]
    },
    {
      "cell_type": "code",
      "metadata": {
        "id": "35buIJXJD-al",
        "colab": {
          "base_uri": "https://localhost:8080/"
        },
        "outputId": "40d1d137-2cb4-4789-a1d3-4dcaccd527d0"
      },
      "source": [
        "model.predict(indep)  # predict(arr) 예측할 독립변수 값"
      ],
      "execution_count": 21,
      "outputs": [
        {
          "output_type": "execute_result",
          "data": {
            "text/plain": [
              "array([[40.048267],\n",
              "       [42.03437 ],\n",
              "       [44.020473],\n",
              "       [46.006577],\n",
              "       [47.99268 ],\n",
              "       [49.978783]], dtype=float32)"
            ]
          },
          "metadata": {
            "tags": []
          },
          "execution_count": 21
        }
      ]
    },
    {
      "cell_type": "code",
      "metadata": {
        "colab": {
          "base_uri": "https://localhost:8080/"
        },
        "id": "Xp_Q-lhPIx6o",
        "outputId": "f83e9068-54f4-4bb0-a773-b74601524cc8"
      },
      "source": [
        "model.predict([[15]])  # predict([[n]]) 예측할 독립변수 값"
      ],
      "execution_count": 23,
      "outputs": [
        {
          "output_type": "execute_result",
          "data": {
            "text/plain": [
              "array([[30.117754]], dtype=float32)"
            ]
          },
          "metadata": {
            "tags": []
          },
          "execution_count": 23
        }
      ]
    }
  ]
}