{
  "nbformat": 4,
  "nbformat_minor": 0,
  "metadata": {
    "colab": {
      "name": "실습1-Pandas.ipynb",
      "provenance": [],
      "collapsed_sections": [
        "vgDEYsoJ0U0r",
        "TjpVJzmEAQ1U",
        "cokxUNkqAVP0",
        "9RRB3bSzApfN",
        "QEsmOE3FA1lG",
        "iu0YmZZWA-Qp"
      ],
      "toc_visible": true
    },
    "kernelspec": {
      "name": "python3",
      "display_name": "Python 3"
    }
  },
  "cells": [
    {
      "cell_type": "markdown",
      "metadata": {
        "id": "n9QYoRk2BLyC"
      },
      "source": [
        "# Pandas"
      ]
    },
    {
      "cell_type": "markdown",
      "metadata": {
        "id": "BjW7hEA5zq1h"
      },
      "source": [
        "Pandas : 데이터 조작 및 분석을 위해 Python으로 작성된 소프트웨어 라이브러리.\r\n"
      ]
    },
    {
      "cell_type": "markdown",
      "metadata": {
        "id": "vgDEYsoJ0U0r"
      },
      "source": [
        "## 활용\r\n"
      ]
    },
    {
      "cell_type": "markdown",
      "metadata": {
        "id": "k14BgpHvBIOw"
      },
      "source": [
        "- csv 파일 읽어오기 : `pd.read_csv(파일 경로)`\r\n",
        "- 표의 형태(행, 열 값) 출력하기 : `print(표.shape)`\r\n",
        "- 칼럼(열) 이름 확인 : `print(표.columns)`\r\n",
        "- 칼럼 선택하기 : `표[['칼럼 이름']]` 또는 `표[['칼럼 이름1', '칼럼 이름2']]`\r\n",
        "- 상위 관측치 5개 출력하기 : `표.head()`"
      ]
    },
    {
      "cell_type": "code",
      "metadata": {
        "id": "bQ_o5j-50d7E"
      },
      "source": [
        "import pandas as pd"
      ],
      "execution_count": 4,
      "outputs": []
    },
    {
      "cell_type": "markdown",
      "metadata": {
        "id": "TjpVJzmEAQ1U"
      },
      "source": [
        "## csv 파일 읽어오기\r\n",
        "`pd.read_csv(파일 경로)`"
      ]
    },
    {
      "cell_type": "code",
      "metadata": {
        "id": "KFUD6NVB0_fD"
      },
      "source": [
        "file_path = 'lemonade.csv'\r\n",
        "lemonade = pd.read_csv(file_path)\r\n",
        "\r\n",
        "file_path = 'boston.csv'\r\n",
        "boston = pd.read_csv(file_path)\r\n",
        "\r\n",
        "file_path = 'iris.csv'\r\n",
        "iris = pd.read_csv(file_path)"
      ],
      "execution_count": 19,
      "outputs": []
    },
    {
      "cell_type": "markdown",
      "metadata": {
        "id": "cokxUNkqAVP0"
      },
      "source": [
        "## 표의 형태(행, 열 값) 출력하기\r\n",
        "`print(표.shape)`"
      ]
    },
    {
      "cell_type": "code",
      "metadata": {
        "colab": {
          "base_uri": "https://localhost:8080/"
        },
        "id": "2AxX2bur4Hgq",
        "outputId": "55781377-cc5f-43ae-f22f-0c942deee517"
      },
      "source": [
        "print(lemonade.shape)\r\n",
        "print(boston.shape)\r\n",
        "print(iris.shape)"
      ],
      "execution_count": 12,
      "outputs": [
        {
          "output_type": "stream",
          "text": [
            "(6, 2)\n",
            "(506, 14)\n",
            "(150, 5)\n"
          ],
          "name": "stdout"
        }
      ]
    },
    {
      "cell_type": "markdown",
      "metadata": {
        "id": "9RRB3bSzApfN"
      },
      "source": [
        "## 칼럼(열) 이름 확인\r\n",
        "`print(표.columns)`"
      ]
    },
    {
      "cell_type": "code",
      "metadata": {
        "colab": {
          "base_uri": "https://localhost:8080/"
        },
        "id": "4C6v6nki40d_",
        "outputId": "61c5dc89-f898-4db9-9999-e5af4b6c27ec"
      },
      "source": [
        "print(lemonade.columns)\r\n",
        "print(boston.columns)\r\n",
        "print(iris.columns)"
      ],
      "execution_count": 13,
      "outputs": [
        {
          "output_type": "stream",
          "text": [
            "Index(['온도', '판매량'], dtype='object')\n",
            "Index(['crim', 'zn', 'indus', 'chas', 'nox', 'rm', 'age', 'dis', 'rad', 'tax',\n",
            "       'ptratio', 'b', 'lstat', 'medv'],\n",
            "      dtype='object')\n",
            "Index(['꽃잎길이', '꽃잎폭', '꽃받침길이', '꽃받침폭', '품종'], dtype='object')\n"
          ],
          "name": "stdout"
        }
      ]
    },
    {
      "cell_type": "markdown",
      "metadata": {
        "id": "QEsmOE3FA1lG"
      },
      "source": [
        "## 칼럼 선택하기\r\n",
        " `표[['칼럼 이름']]` 또는 `표[['칼럼 이름1', '칼럼 이름2']]`"
      ]
    },
    {
      "cell_type": "code",
      "metadata": {
        "colab": {
          "base_uri": "https://localhost:8080/"
        },
        "id": "ESnD9zLn5i5x",
        "outputId": "d4e3c988-30a9-468c-a89f-637daf32a75c"
      },
      "source": [
        "indep = lemonade[['온도']]\r\n",
        "dep = lemonade[['판매량']]\r\n",
        "print(indep, dep, sep= '\\n')"
      ],
      "execution_count": 16,
      "outputs": [
        {
          "output_type": "stream",
          "text": [
            "   온도\n",
            "0  20\n",
            "1  21\n",
            "2  22\n",
            "3  23\n",
            "4  24\n",
            "5  25\n",
            "   판매량\n",
            "0   40\n",
            "1   42\n",
            "2   44\n",
            "3   46\n",
            "4   48\n",
            "5   50\n"
          ],
          "name": "stdout"
        }
      ]
    },
    {
      "cell_type": "markdown",
      "metadata": {
        "id": "iu0YmZZWA-Qp"
      },
      "source": [
        "## 상위 관측치 5개 출력하기\r\n",
        "`표.head()`"
      ]
    },
    {
      "cell_type": "code",
      "metadata": {
        "colab": {
          "base_uri": "https://localhost:8080/",
          "height": 204
        },
        "id": "ZRwXeLyt_QDM",
        "outputId": "7c753212-0171-4537-ea31-568e96cfbc88"
      },
      "source": [
        "lemonade.head()"
      ],
      "execution_count": 18,
      "outputs": [
        {
          "output_type": "execute_result",
          "data": {
            "text/html": [
              "<div>\n",
              "<style scoped>\n",
              "    .dataframe tbody tr th:only-of-type {\n",
              "        vertical-align: middle;\n",
              "    }\n",
              "\n",
              "    .dataframe tbody tr th {\n",
              "        vertical-align: top;\n",
              "    }\n",
              "\n",
              "    .dataframe thead th {\n",
              "        text-align: right;\n",
              "    }\n",
              "</style>\n",
              "<table border=\"1\" class=\"dataframe\">\n",
              "  <thead>\n",
              "    <tr style=\"text-align: right;\">\n",
              "      <th></th>\n",
              "      <th>온도</th>\n",
              "      <th>판매량</th>\n",
              "    </tr>\n",
              "  </thead>\n",
              "  <tbody>\n",
              "    <tr>\n",
              "      <th>0</th>\n",
              "      <td>20</td>\n",
              "      <td>40</td>\n",
              "    </tr>\n",
              "    <tr>\n",
              "      <th>1</th>\n",
              "      <td>21</td>\n",
              "      <td>42</td>\n",
              "    </tr>\n",
              "    <tr>\n",
              "      <th>2</th>\n",
              "      <td>22</td>\n",
              "      <td>44</td>\n",
              "    </tr>\n",
              "    <tr>\n",
              "      <th>3</th>\n",
              "      <td>23</td>\n",
              "      <td>46</td>\n",
              "    </tr>\n",
              "    <tr>\n",
              "      <th>4</th>\n",
              "      <td>24</td>\n",
              "      <td>48</td>\n",
              "    </tr>\n",
              "  </tbody>\n",
              "</table>\n",
              "</div>"
            ],
            "text/plain": [
              "   온도  판매량\n",
              "0  20   40\n",
              "1  21   42\n",
              "2  22   44\n",
              "3  23   46\n",
              "4  24   48"
            ]
          },
          "metadata": {
            "tags": []
          },
          "execution_count": 18
        }
      ]
    }
  ]
}