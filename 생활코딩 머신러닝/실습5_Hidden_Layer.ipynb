{
  "nbformat": 4,
  "nbformat_minor": 0,
  "metadata": {
    "colab": {
      "name": "실습5-Hidden Layer.ipynb",
      "provenance": [],
      "collapsed_sections": [],
      "toc_visible": true
    },
    "kernelspec": {
      "name": "python3",
      "display_name": "Python 3"
    }
  },
  "cells": [
    {
      "cell_type": "markdown",
      "metadata": {
        "id": "3CIKeaXdXzU_"
      },
      "source": [
        "# Hidden Layer"
      ]
    },
    {
      "cell_type": "markdown",
      "metadata": {
        "id": "NOd2PgMiXO77"
      },
      "source": [
        "Hidden Layer : Input Layer와 Output Layer사이에 위치한 Layer  \r\n",
        "코드상의 구현으로는 전까지 output부분을 생성하는 Dense에 출력값의 수와 입력 변수를 적는 것에 `activation='swish'`를 통해 swish 함수를 사용하는 것이 추가된 형태이다."
      ]
    },
    {
      "cell_type": "markdown",
      "metadata": {
        "id": "0bzc60GvZD4e"
      },
      "source": [
        "## 보스턴 집값 예측"
      ]
    },
    {
      "cell_type": "code",
      "metadata": {
        "colab": {
          "base_uri": "https://localhost:8080/"
        },
        "id": "QeKzpssHXKyN",
        "outputId": "47ce1c92-1956-4326-c46f-0e08d3ae9248"
      },
      "source": [
        "import pandas as pd\r\n",
        "import tensorflow as tf\r\n",
        "\r\n",
        "boston = pd.read_csv('boston.csv')\r\n",
        "indep = boston[['crim', 'zn', 'indus', 'chas', 'nox', 'rm', 'age', 'dis', 'rad', 'tax',\r\n",
        "       'ptratio', 'b', 'lstat']]\r\n",
        "dep = boston[['medv']]\r\n",
        "print(indep.shape, dep.shape)"
      ],
      "execution_count": 3,
      "outputs": [
        {
          "output_type": "stream",
          "text": [
            "(506, 13) (506, 1)\n"
          ],
          "name": "stdout"
        }
      ]
    },
    {
      "cell_type": "code",
      "metadata": {
        "id": "9A67DE99aCuc"
      },
      "source": [
        "X = tf.keras.layers.Input(shape=[13])\r\n",
        "H = tf.keras.layers.Dense(10, activation='swish')(X)\r\n",
        "Y = tf.keras.layers.Dense(1)(H)\r\n",
        "model = tf.keras.models.Model(X, Y)\r\n",
        "model.compile(loss='mse')"
      ],
      "execution_count": 9,
      "outputs": []
    },
    {
      "cell_type": "code",
      "metadata": {
        "colab": {
          "base_uri": "https://localhost:8080/"
        },
        "id": "Bg-QGfrubC0E",
        "outputId": "1aadef36-bf8f-48f1-eeb0-a915a6003826"
      },
      "source": [
        "model.summary()"
      ],
      "execution_count": 10,
      "outputs": [
        {
          "output_type": "stream",
          "text": [
            "Model: \"model_1\"\n",
            "_________________________________________________________________\n",
            "Layer (type)                 Output Shape              Param #   \n",
            "=================================================================\n",
            "input_2 (InputLayer)         [(None, 13)]              0         \n",
            "_________________________________________________________________\n",
            "dense_2 (Dense)              (None, 10)                140       \n",
            "_________________________________________________________________\n",
            "dense_3 (Dense)              (None, 1)                 11        \n",
            "=================================================================\n",
            "Total params: 151\n",
            "Trainable params: 151\n",
            "Non-trainable params: 0\n",
            "_________________________________________________________________\n"
          ],
          "name": "stdout"
        }
      ]
    },
    {
      "cell_type": "code",
      "metadata": {
        "colab": {
          "base_uri": "https://localhost:8080/"
        },
        "id": "BhqWCoLjagsu",
        "outputId": "b4a36a1b-cda5-4b46-afce-6f828451c7b4"
      },
      "source": [
        "model.fit(indep,dep,epochs=1000, verbose=0)\r\n",
        "model.fit(indep,dep,epochs=10)\r\n"
      ],
      "execution_count": 11,
      "outputs": [
        {
          "output_type": "stream",
          "text": [
            "Epoch 1/10\n",
            "16/16 [==============================] - 0s 1ms/step - loss: 17.5534\n",
            "Epoch 2/10\n",
            "16/16 [==============================] - 0s 1ms/step - loss: 18.5521\n",
            "Epoch 3/10\n",
            "16/16 [==============================] - 0s 1ms/step - loss: 19.3837\n",
            "Epoch 4/10\n",
            "16/16 [==============================] - 0s 1ms/step - loss: 17.7919\n",
            "Epoch 5/10\n",
            "16/16 [==============================] - 0s 1ms/step - loss: 18.7920\n",
            "Epoch 6/10\n",
            "16/16 [==============================] - 0s 1ms/step - loss: 17.7916\n",
            "Epoch 7/10\n",
            "16/16 [==============================] - 0s 1ms/step - loss: 18.4803\n",
            "Epoch 8/10\n",
            "16/16 [==============================] - 0s 1ms/step - loss: 18.7123\n",
            "Epoch 9/10\n",
            "16/16 [==============================] - 0s 1ms/step - loss: 17.9515\n",
            "Epoch 10/10\n",
            "16/16 [==============================] - 0s 1ms/step - loss: 18.6683\n"
          ],
          "name": "stdout"
        },
        {
          "output_type": "execute_result",
          "data": {
            "text/plain": [
              "<tensorflow.python.keras.callbacks.History at 0x7ff04ed96438>"
            ]
          },
          "metadata": {
            "tags": []
          },
          "execution_count": 11
        }
      ]
    },
    {
      "cell_type": "code",
      "metadata": {
        "colab": {
          "base_uri": "https://localhost:8080/"
        },
        "id": "md7VCwFNbTg9",
        "outputId": "ec94ab13-5db5-4f70-90b7-d4a8e28af8fd"
      },
      "source": [
        "print(model.predict(indep[:5]))\r\n",
        "print(dep[:5])"
      ],
      "execution_count": 12,
      "outputs": [
        {
          "output_type": "stream",
          "text": [
            "[[26.74765 ]\n",
            " [22.837503]\n",
            " [29.276546]\n",
            " [29.78014 ]\n",
            " [29.674809]]\n",
            "   medv\n",
            "0  24.0\n",
            "1  21.6\n",
            "2  34.7\n",
            "3  33.4\n",
            "4  36.2\n"
          ],
          "name": "stdout"
        }
      ]
    },
    {
      "cell_type": "markdown",
      "metadata": {
        "id": "5O2FsKPqbpK_"
      },
      "source": [
        "## 아이리스 품종 분류"
      ]
    },
    {
      "cell_type": "code",
      "metadata": {
        "colab": {
          "base_uri": "https://localhost:8080/"
        },
        "id": "kkC6crVrbu5W",
        "outputId": "01589bbb-545f-41bc-a062-f20c34a29a3f"
      },
      "source": [
        "import pandas as pd\r\n",
        "import tensorflow as tf\r\n",
        "\r\n",
        "iris = pd.read_csv('iris.csv')\r\n",
        "encoding = pd.get_dummies(iris)\r\n",
        "encoding.head()\r\n",
        "\r\n",
        "indep = encoding[['꽃잎길이', '꽃잎폭', '꽃받침길이', '꽃받침폭']]\r\n",
        "dep = encoding[[ '품종_setosa', '품종_versicolor',\r\n",
        "       '품종_virginica']]\r\n",
        "print(indep.shape, dep.shape)"
      ],
      "execution_count": 14,
      "outputs": [
        {
          "output_type": "stream",
          "text": [
            "(150, 4) (150, 3)\n"
          ],
          "name": "stdout"
        }
      ]
    },
    {
      "cell_type": "code",
      "metadata": {
        "id": "p1QzeClLbyO7"
      },
      "source": [
        "X = tf.keras.layers.Input(shape=[4])\r\n",
        "H = tf.keras.layers.Dense(5, activation='swish')(X)\r\n",
        "H = tf.keras.layers.Dense(5, activation='swish')(H)\r\n",
        "Y = tf.keras.layers.Dense(3, activation='softmax')(H)\r\n",
        "model = tf.keras.models.Model(X, Y)\r\n",
        "model.compile(loss='categorical_crossentropy',  metrics='accuracy')"
      ],
      "execution_count": 15,
      "outputs": []
    },
    {
      "cell_type": "code",
      "metadata": {
        "colab": {
          "base_uri": "https://localhost:8080/"
        },
        "id": "DZMP2-0ZcliC",
        "outputId": "c7d16adb-a93a-4810-d8ec-f1a8207308e8"
      },
      "source": [
        "model.summary()"
      ],
      "execution_count": 19,
      "outputs": [
        {
          "output_type": "stream",
          "text": [
            "Model: \"model_3\"\n",
            "_________________________________________________________________\n",
            "Layer (type)                 Output Shape              Param #   \n",
            "=================================================================\n",
            "input_4 (InputLayer)         [(None, 4)]               0         \n",
            "_________________________________________________________________\n",
            "dense_7 (Dense)              (None, 5)                 25        \n",
            "_________________________________________________________________\n",
            "dense_8 (Dense)              (None, 5)                 30        \n",
            "_________________________________________________________________\n",
            "dense_9 (Dense)              (None, 3)                 18        \n",
            "=================================================================\n",
            "Total params: 73\n",
            "Trainable params: 73\n",
            "Non-trainable params: 0\n",
            "_________________________________________________________________\n"
          ],
          "name": "stdout"
        }
      ]
    },
    {
      "cell_type": "code",
      "metadata": {
        "colab": {
          "base_uri": "https://localhost:8080/"
        },
        "id": "7a_M6QDJb2Fx",
        "outputId": "9c3e67b9-46e6-44b0-d366-30af8f061608"
      },
      "source": [
        "model.fit(indep,dep,epochs=200)"
      ],
      "execution_count": 16,
      "outputs": [
        {
          "output_type": "stream",
          "text": [
            "Epoch 1/200\n",
            "5/5 [==============================] - 1s 4ms/step - loss: 1.1618 - accuracy: 0.3394\n",
            "Epoch 2/200\n",
            "5/5 [==============================] - 0s 2ms/step - loss: 1.1295 - accuracy: 0.3368\n",
            "Epoch 3/200\n",
            "5/5 [==============================] - 0s 2ms/step - loss: 1.1102 - accuracy: 0.3303\n",
            "Epoch 4/200\n",
            "5/5 [==============================] - 0s 2ms/step - loss: 1.1348 - accuracy: 0.3419\n",
            "Epoch 5/200\n",
            "5/5 [==============================] - 0s 2ms/step - loss: 1.1041 - accuracy: 0.5389\n",
            "Epoch 6/200\n",
            "5/5 [==============================] - 0s 2ms/step - loss: 1.0852 - accuracy: 0.6775\n",
            "Epoch 7/200\n",
            "5/5 [==============================] - 0s 2ms/step - loss: 1.0907 - accuracy: 0.6528\n",
            "Epoch 8/200\n",
            "5/5 [==============================] - 0s 2ms/step - loss: 1.0656 - accuracy: 0.6866\n",
            "Epoch 9/200\n",
            "5/5 [==============================] - 0s 3ms/step - loss: 1.0636 - accuracy: 0.6658\n",
            "Epoch 10/200\n",
            "5/5 [==============================] - 0s 2ms/step - loss: 1.0496 - accuracy: 0.6745\n",
            "Epoch 11/200\n",
            "5/5 [==============================] - 0s 3ms/step - loss: 1.0373 - accuracy: 0.6784\n",
            "Epoch 12/200\n",
            "5/5 [==============================] - 0s 2ms/step - loss: 1.0245 - accuracy: 0.6814\n",
            "Epoch 13/200\n",
            "5/5 [==============================] - 0s 2ms/step - loss: 1.0134 - accuracy: 0.6753\n",
            "Epoch 14/200\n",
            "5/5 [==============================] - 0s 2ms/step - loss: 1.0116 - accuracy: 0.6168\n",
            "Epoch 15/200\n",
            "5/5 [==============================] - 0s 2ms/step - loss: 0.9912 - accuracy: 0.6611\n",
            "Epoch 16/200\n",
            "5/5 [==============================] - 0s 2ms/step - loss: 0.9787 - accuracy: 0.6891\n",
            "Epoch 17/200\n",
            "5/5 [==============================] - 0s 2ms/step - loss: 0.9641 - accuracy: 0.7168\n",
            "Epoch 18/200\n",
            "5/5 [==============================] - 0s 4ms/step - loss: 0.9543 - accuracy: 0.7508\n",
            "Epoch 19/200\n",
            "5/5 [==============================] - 0s 3ms/step - loss: 0.9402 - accuracy: 0.8010\n",
            "Epoch 20/200\n",
            "5/5 [==============================] - 0s 3ms/step - loss: 0.9294 - accuracy: 0.8837\n",
            "Epoch 21/200\n",
            "5/5 [==============================] - 0s 3ms/step - loss: 0.9196 - accuracy: 0.9025\n",
            "Epoch 22/200\n",
            "5/5 [==============================] - 0s 3ms/step - loss: 0.9023 - accuracy: 0.9181\n",
            "Epoch 23/200\n",
            "5/5 [==============================] - 0s 2ms/step - loss: 0.8971 - accuracy: 0.9414\n",
            "Epoch 24/200\n",
            "5/5 [==============================] - 0s 2ms/step - loss: 0.8830 - accuracy: 0.8771\n",
            "Epoch 25/200\n",
            "5/5 [==============================] - 0s 3ms/step - loss: 0.8718 - accuracy: 0.8477\n",
            "Epoch 26/200\n",
            "5/5 [==============================] - 0s 3ms/step - loss: 0.8575 - accuracy: 0.8726\n",
            "Epoch 27/200\n",
            "5/5 [==============================] - 0s 3ms/step - loss: 0.8487 - accuracy: 0.8315\n",
            "Epoch 28/200\n",
            "5/5 [==============================] - 0s 3ms/step - loss: 0.8412 - accuracy: 0.8244\n",
            "Epoch 29/200\n",
            "5/5 [==============================] - 0s 3ms/step - loss: 0.8265 - accuracy: 0.8140\n",
            "Epoch 30/200\n",
            "5/5 [==============================] - 0s 3ms/step - loss: 0.8195 - accuracy: 0.8447\n",
            "Epoch 31/200\n",
            "5/5 [==============================] - 0s 3ms/step - loss: 0.8114 - accuracy: 0.8346\n",
            "Epoch 32/200\n",
            "5/5 [==============================] - 0s 2ms/step - loss: 0.7979 - accuracy: 0.7988\n",
            "Epoch 33/200\n",
            "5/5 [==============================] - 0s 4ms/step - loss: 0.7839 - accuracy: 0.8158\n",
            "Epoch 34/200\n",
            "5/5 [==============================] - 0s 2ms/step - loss: 0.7781 - accuracy: 0.8002\n",
            "Epoch 35/200\n",
            "5/5 [==============================] - 0s 2ms/step - loss: 0.7623 - accuracy: 0.7808\n",
            "Epoch 36/200\n",
            "5/5 [==============================] - 0s 2ms/step - loss: 0.7598 - accuracy: 0.8053\n",
            "Epoch 37/200\n",
            "5/5 [==============================] - 0s 2ms/step - loss: 0.7500 - accuracy: 0.7881\n",
            "Epoch 38/200\n",
            "5/5 [==============================] - 0s 2ms/step - loss: 0.7264 - accuracy: 0.7922\n",
            "Epoch 39/200\n",
            "5/5 [==============================] - 0s 3ms/step - loss: 0.7202 - accuracy: 0.8323\n",
            "Epoch 40/200\n",
            "5/5 [==============================] - 0s 3ms/step - loss: 0.7142 - accuracy: 0.7990\n",
            "Epoch 41/200\n",
            "5/5 [==============================] - 0s 3ms/step - loss: 0.7062 - accuracy: 0.8386\n",
            "Epoch 42/200\n",
            "5/5 [==============================] - 0s 2ms/step - loss: 0.6823 - accuracy: 0.8162\n",
            "Epoch 43/200\n",
            "5/5 [==============================] - 0s 3ms/step - loss: 0.6901 - accuracy: 0.8172\n",
            "Epoch 44/200\n",
            "5/5 [==============================] - 0s 2ms/step - loss: 0.6698 - accuracy: 0.8276\n",
            "Epoch 45/200\n",
            "5/5 [==============================] - 0s 3ms/step - loss: 0.6626 - accuracy: 0.8115\n",
            "Epoch 46/200\n",
            "5/5 [==============================] - 0s 2ms/step - loss: 0.6455 - accuracy: 0.8181\n",
            "Epoch 47/200\n",
            "5/5 [==============================] - 0s 2ms/step - loss: 0.6395 - accuracy: 0.8272\n",
            "Epoch 48/200\n",
            "5/5 [==============================] - 0s 2ms/step - loss: 0.6313 - accuracy: 0.8313\n",
            "Epoch 49/200\n",
            "5/5 [==============================] - 0s 3ms/step - loss: 0.6248 - accuracy: 0.8526\n",
            "Epoch 50/200\n",
            "5/5 [==============================] - 0s 4ms/step - loss: 0.6066 - accuracy: 0.8213\n",
            "Epoch 51/200\n",
            "5/5 [==============================] - 0s 3ms/step - loss: 0.6073 - accuracy: 0.8453\n",
            "Epoch 52/200\n",
            "5/5 [==============================] - 0s 2ms/step - loss: 0.5970 - accuracy: 0.8468\n",
            "Epoch 53/200\n",
            "5/5 [==============================] - 0s 3ms/step - loss: 0.5876 - accuracy: 0.8544\n",
            "Epoch 54/200\n",
            "5/5 [==============================] - 0s 2ms/step - loss: 0.5956 - accuracy: 0.7931\n",
            "Epoch 55/200\n",
            "5/5 [==============================] - 0s 2ms/step - loss: 0.5717 - accuracy: 0.8212\n",
            "Epoch 56/200\n",
            "5/5 [==============================] - 0s 3ms/step - loss: 0.5599 - accuracy: 0.8373\n",
            "Epoch 57/200\n",
            "5/5 [==============================] - 0s 3ms/step - loss: 0.5566 - accuracy: 0.8438\n",
            "Epoch 58/200\n",
            "5/5 [==============================] - 0s 2ms/step - loss: 0.5528 - accuracy: 0.8265\n",
            "Epoch 59/200\n",
            "5/5 [==============================] - 0s 3ms/step - loss: 0.5482 - accuracy: 0.8235\n",
            "Epoch 60/200\n",
            "5/5 [==============================] - 0s 2ms/step - loss: 0.5336 - accuracy: 0.8309\n",
            "Epoch 61/200\n",
            "5/5 [==============================] - 0s 2ms/step - loss: 0.5106 - accuracy: 0.8838\n",
            "Epoch 62/200\n",
            "5/5 [==============================] - 0s 3ms/step - loss: 0.5278 - accuracy: 0.8588\n",
            "Epoch 63/200\n",
            "5/5 [==============================] - 0s 3ms/step - loss: 0.5119 - accuracy: 0.8849\n",
            "Epoch 64/200\n",
            "5/5 [==============================] - 0s 2ms/step - loss: 0.5039 - accuracy: 0.8808\n",
            "Epoch 65/200\n",
            "5/5 [==============================] - 0s 2ms/step - loss: 0.5210 - accuracy: 0.8485\n",
            "Epoch 66/200\n",
            "5/5 [==============================] - 0s 3ms/step - loss: 0.4872 - accuracy: 0.8853\n",
            "Epoch 67/200\n",
            "5/5 [==============================] - 0s 2ms/step - loss: 0.4866 - accuracy: 0.8753\n",
            "Epoch 68/200\n",
            "5/5 [==============================] - 0s 3ms/step - loss: 0.4707 - accuracy: 0.8787\n",
            "Epoch 69/200\n",
            "5/5 [==============================] - 0s 3ms/step - loss: 0.4664 - accuracy: 0.8966\n",
            "Epoch 70/200\n",
            "5/5 [==============================] - 0s 3ms/step - loss: 0.4681 - accuracy: 0.8766\n",
            "Epoch 71/200\n",
            "5/5 [==============================] - 0s 3ms/step - loss: 0.4478 - accuracy: 0.8935\n",
            "Epoch 72/200\n",
            "5/5 [==============================] - 0s 2ms/step - loss: 0.4555 - accuracy: 0.8736\n",
            "Epoch 73/200\n",
            "5/5 [==============================] - 0s 3ms/step - loss: 0.4447 - accuracy: 0.8805\n",
            "Epoch 74/200\n",
            "5/5 [==============================] - 0s 3ms/step - loss: 0.4463 - accuracy: 0.8793\n",
            "Epoch 75/200\n",
            "5/5 [==============================] - 0s 2ms/step - loss: 0.4340 - accuracy: 0.9009\n",
            "Epoch 76/200\n",
            "5/5 [==============================] - 0s 2ms/step - loss: 0.4360 - accuracy: 0.9030\n",
            "Epoch 77/200\n",
            "5/5 [==============================] - 0s 2ms/step - loss: 0.4305 - accuracy: 0.8706\n",
            "Epoch 78/200\n",
            "5/5 [==============================] - 0s 4ms/step - loss: 0.4053 - accuracy: 0.8854\n",
            "Epoch 79/200\n",
            "5/5 [==============================] - 0s 3ms/step - loss: 0.4074 - accuracy: 0.8819\n",
            "Epoch 80/200\n",
            "5/5 [==============================] - 0s 2ms/step - loss: 0.4048 - accuracy: 0.8941\n",
            "Epoch 81/200\n",
            "5/5 [==============================] - 0s 3ms/step - loss: 0.3990 - accuracy: 0.9215\n",
            "Epoch 82/200\n",
            "5/5 [==============================] - 0s 3ms/step - loss: 0.3720 - accuracy: 0.9442\n",
            "Epoch 83/200\n",
            "5/5 [==============================] - 0s 3ms/step - loss: 0.4020 - accuracy: 0.9192\n",
            "Epoch 84/200\n",
            "5/5 [==============================] - 0s 3ms/step - loss: 0.3942 - accuracy: 0.9247\n",
            "Epoch 85/200\n",
            "5/5 [==============================] - 0s 3ms/step - loss: 0.3726 - accuracy: 0.9387\n",
            "Epoch 86/200\n",
            "5/5 [==============================] - 0s 3ms/step - loss: 0.3807 - accuracy: 0.9360\n",
            "Epoch 87/200\n",
            "5/5 [==============================] - 0s 3ms/step - loss: 0.3840 - accuracy: 0.9340\n",
            "Epoch 88/200\n",
            "5/5 [==============================] - 0s 3ms/step - loss: 0.3642 - accuracy: 0.9322\n",
            "Epoch 89/200\n",
            "5/5 [==============================] - 0s 2ms/step - loss: 0.3670 - accuracy: 0.9592\n",
            "Epoch 90/200\n",
            "5/5 [==============================] - 0s 2ms/step - loss: 0.3672 - accuracy: 0.9593\n",
            "Epoch 91/200\n",
            "5/5 [==============================] - 0s 3ms/step - loss: 0.3718 - accuracy: 0.9183\n",
            "Epoch 92/200\n",
            "5/5 [==============================] - 0s 3ms/step - loss: 0.3559 - accuracy: 0.9478\n",
            "Epoch 93/200\n",
            "5/5 [==============================] - 0s 3ms/step - loss: 0.3452 - accuracy: 0.9414\n",
            "Epoch 94/200\n",
            "5/5 [==============================] - 0s 3ms/step - loss: 0.3446 - accuracy: 0.9484\n",
            "Epoch 95/200\n",
            "5/5 [==============================] - 0s 3ms/step - loss: 0.3526 - accuracy: 0.9415\n",
            "Epoch 96/200\n",
            "5/5 [==============================] - 0s 3ms/step - loss: 0.3200 - accuracy: 0.9178\n",
            "Epoch 97/200\n",
            "5/5 [==============================] - 0s 3ms/step - loss: 0.3475 - accuracy: 0.9440\n",
            "Epoch 98/200\n",
            "5/5 [==============================] - 0s 3ms/step - loss: 0.3366 - accuracy: 0.9727\n",
            "Epoch 99/200\n",
            "5/5 [==============================] - 0s 2ms/step - loss: 0.3235 - accuracy: 0.9502\n",
            "Epoch 100/200\n",
            "5/5 [==============================] - 0s 2ms/step - loss: 0.3182 - accuracy: 0.9588\n",
            "Epoch 101/200\n",
            "5/5 [==============================] - 0s 3ms/step - loss: 0.3248 - accuracy: 0.9545\n",
            "Epoch 102/200\n",
            "5/5 [==============================] - 0s 3ms/step - loss: 0.3256 - accuracy: 0.9549\n",
            "Epoch 103/200\n",
            "5/5 [==============================] - 0s 3ms/step - loss: 0.2986 - accuracy: 0.9588\n",
            "Epoch 104/200\n",
            "5/5 [==============================] - 0s 2ms/step - loss: 0.3086 - accuracy: 0.9614\n",
            "Epoch 105/200\n",
            "5/5 [==============================] - 0s 3ms/step - loss: 0.2985 - accuracy: 0.9536\n",
            "Epoch 106/200\n",
            "5/5 [==============================] - 0s 2ms/step - loss: 0.2965 - accuracy: 0.9597\n",
            "Epoch 107/200\n",
            "5/5 [==============================] - 0s 2ms/step - loss: 0.2888 - accuracy: 0.9532\n",
            "Epoch 108/200\n",
            "5/5 [==============================] - 0s 3ms/step - loss: 0.2918 - accuracy: 0.9723\n",
            "Epoch 109/200\n",
            "5/5 [==============================] - 0s 2ms/step - loss: 0.2895 - accuracy: 0.9476\n",
            "Epoch 110/200\n",
            "5/5 [==============================] - 0s 3ms/step - loss: 0.3105 - accuracy: 0.9393\n",
            "Epoch 111/200\n",
            "5/5 [==============================] - 0s 3ms/step - loss: 0.2953 - accuracy: 0.9471\n",
            "Epoch 112/200\n",
            "5/5 [==============================] - 0s 4ms/step - loss: 0.2968 - accuracy: 0.9645\n",
            "Epoch 113/200\n",
            "5/5 [==============================] - 0s 3ms/step - loss: 0.2614 - accuracy: 0.9680\n",
            "Epoch 114/200\n",
            "5/5 [==============================] - 0s 3ms/step - loss: 0.2902 - accuracy: 0.9467\n",
            "Epoch 115/200\n",
            "5/5 [==============================] - 0s 3ms/step - loss: 0.2663 - accuracy: 0.9628\n",
            "Epoch 116/200\n",
            "5/5 [==============================] - 0s 3ms/step - loss: 0.2822 - accuracy: 0.9528\n",
            "Epoch 117/200\n",
            "5/5 [==============================] - 0s 2ms/step - loss: 0.2491 - accuracy: 0.9628\n",
            "Epoch 118/200\n",
            "5/5 [==============================] - 0s 4ms/step - loss: 0.2815 - accuracy: 0.9428\n",
            "Epoch 119/200\n",
            "5/5 [==============================] - 0s 3ms/step - loss: 0.2793 - accuracy: 0.9646\n",
            "Epoch 120/200\n",
            "5/5 [==============================] - 0s 2ms/step - loss: 0.2632 - accuracy: 0.9546\n",
            "Epoch 121/200\n",
            "5/5 [==============================] - 0s 2ms/step - loss: 0.2563 - accuracy: 0.9611\n",
            "Epoch 122/200\n",
            "5/5 [==============================] - 0s 2ms/step - loss: 0.2482 - accuracy: 0.9750\n",
            "Epoch 123/200\n",
            "5/5 [==============================] - 0s 2ms/step - loss: 0.2543 - accuracy: 0.9668\n",
            "Epoch 124/200\n",
            "5/5 [==============================] - 0s 3ms/step - loss: 0.2391 - accuracy: 0.9706\n",
            "Epoch 125/200\n",
            "5/5 [==============================] - 0s 3ms/step - loss: 0.2357 - accuracy: 0.9702\n",
            "Epoch 126/200\n",
            "5/5 [==============================] - 0s 3ms/step - loss: 0.2329 - accuracy: 0.9759\n",
            "Epoch 127/200\n",
            "5/5 [==============================] - 0s 3ms/step - loss: 0.2348 - accuracy: 0.9689\n",
            "Epoch 128/200\n",
            "5/5 [==============================] - 0s 3ms/step - loss: 0.2432 - accuracy: 0.9677\n",
            "Epoch 129/200\n",
            "5/5 [==============================] - 0s 3ms/step - loss: 0.2395 - accuracy: 0.9485\n",
            "Epoch 130/200\n",
            "5/5 [==============================] - 0s 2ms/step - loss: 0.2490 - accuracy: 0.9632\n",
            "Epoch 131/200\n",
            "5/5 [==============================] - 0s 2ms/step - loss: 0.2429 - accuracy: 0.9580\n",
            "Epoch 132/200\n",
            "5/5 [==============================] - 0s 3ms/step - loss: 0.2131 - accuracy: 0.9842\n",
            "Epoch 133/200\n",
            "5/5 [==============================] - 0s 2ms/step - loss: 0.2256 - accuracy: 0.9698\n",
            "Epoch 134/200\n",
            "5/5 [==============================] - 0s 3ms/step - loss: 0.2412 - accuracy: 0.9651\n",
            "Epoch 135/200\n",
            "5/5 [==============================] - 0s 3ms/step - loss: 0.2279 - accuracy: 0.9681\n",
            "Epoch 136/200\n",
            "5/5 [==============================] - 0s 3ms/step - loss: 0.2026 - accuracy: 0.9802\n",
            "Epoch 137/200\n",
            "5/5 [==============================] - 0s 3ms/step - loss: 0.2243 - accuracy: 0.9763\n",
            "Epoch 138/200\n",
            "5/5 [==============================] - 0s 3ms/step - loss: 0.1984 - accuracy: 0.9781\n",
            "Epoch 139/200\n",
            "5/5 [==============================] - 0s 3ms/step - loss: 0.2132 - accuracy: 0.9733\n",
            "Epoch 140/200\n",
            "5/5 [==============================] - 0s 3ms/step - loss: 0.2139 - accuracy: 0.9637\n",
            "Epoch 141/200\n",
            "5/5 [==============================] - 0s 3ms/step - loss: 0.2004 - accuracy: 0.9890\n",
            "Epoch 142/200\n",
            "5/5 [==============================] - 0s 3ms/step - loss: 0.2017 - accuracy: 0.9772\n",
            "Epoch 143/200\n",
            "5/5 [==============================] - 0s 3ms/step - loss: 0.1982 - accuracy: 0.9764\n",
            "Epoch 144/200\n",
            "5/5 [==============================] - 0s 4ms/step - loss: 0.2026 - accuracy: 0.9650\n",
            "Epoch 145/200\n",
            "5/5 [==============================] - 0s 3ms/step - loss: 0.1965 - accuracy: 0.9790\n",
            "Epoch 146/200\n",
            "5/5 [==============================] - 0s 3ms/step - loss: 0.1845 - accuracy: 0.9681\n",
            "Epoch 147/200\n",
            "5/5 [==============================] - 0s 2ms/step - loss: 0.1898 - accuracy: 0.9676\n",
            "Epoch 148/200\n",
            "5/5 [==============================] - 0s 2ms/step - loss: 0.1896 - accuracy: 0.9820\n",
            "Epoch 149/200\n",
            "5/5 [==============================] - 0s 3ms/step - loss: 0.1968 - accuracy: 0.9794\n",
            "Epoch 150/200\n",
            "5/5 [==============================] - 0s 3ms/step - loss: 0.1757 - accuracy: 0.9824\n",
            "Epoch 151/200\n",
            "5/5 [==============================] - 0s 2ms/step - loss: 0.1915 - accuracy: 0.9772\n",
            "Epoch 152/200\n",
            "5/5 [==============================] - 0s 4ms/step - loss: 0.1871 - accuracy: 0.9798\n",
            "Epoch 153/200\n",
            "5/5 [==============================] - 0s 2ms/step - loss: 0.1828 - accuracy: 0.9834\n",
            "Epoch 154/200\n",
            "5/5 [==============================] - 0s 2ms/step - loss: 0.1812 - accuracy: 0.9834\n",
            "Epoch 155/200\n",
            "5/5 [==============================] - 0s 3ms/step - loss: 0.1580 - accuracy: 0.9834\n",
            "Epoch 156/200\n",
            "5/5 [==============================] - 0s 3ms/step - loss: 0.1642 - accuracy: 0.9820\n",
            "Epoch 157/200\n",
            "5/5 [==============================] - 0s 6ms/step - loss: 0.1805 - accuracy: 0.9738\n",
            "Epoch 158/200\n",
            "5/5 [==============================] - 0s 3ms/step - loss: 0.1779 - accuracy: 0.9755\n",
            "Epoch 159/200\n",
            "5/5 [==============================] - 0s 2ms/step - loss: 0.1677 - accuracy: 0.9738\n",
            "Epoch 160/200\n",
            "5/5 [==============================] - 0s 3ms/step - loss: 0.1634 - accuracy: 0.9816\n",
            "Epoch 161/200\n",
            "5/5 [==============================] - 0s 3ms/step - loss: 0.1736 - accuracy: 0.9703\n",
            "Epoch 162/200\n",
            "5/5 [==============================] - 0s 3ms/step - loss: 0.1692 - accuracy: 0.9781\n",
            "Epoch 163/200\n",
            "5/5 [==============================] - 0s 3ms/step - loss: 0.1752 - accuracy: 0.9660\n",
            "Epoch 164/200\n",
            "5/5 [==============================] - 0s 4ms/step - loss: 0.1550 - accuracy: 0.9759\n",
            "Epoch 165/200\n",
            "5/5 [==============================] - 0s 2ms/step - loss: 0.1598 - accuracy: 0.9816\n",
            "Epoch 166/200\n",
            "5/5 [==============================] - 0s 3ms/step - loss: 0.1435 - accuracy: 0.9876\n",
            "Epoch 167/200\n",
            "5/5 [==============================] - 0s 4ms/step - loss: 0.1503 - accuracy: 0.9816\n",
            "Epoch 168/200\n",
            "5/5 [==============================] - 0s 3ms/step - loss: 0.1587 - accuracy: 0.9877\n",
            "Epoch 169/200\n",
            "5/5 [==============================] - 0s 2ms/step - loss: 0.1560 - accuracy: 0.9660\n",
            "Epoch 170/200\n",
            "5/5 [==============================] - 0s 2ms/step - loss: 0.1270 - accuracy: 0.9855\n",
            "Epoch 171/200\n",
            "5/5 [==============================] - 0s 2ms/step - loss: 0.1631 - accuracy: 0.9816\n",
            "Epoch 172/200\n",
            "5/5 [==============================] - 0s 3ms/step - loss: 0.1352 - accuracy: 0.9864\n",
            "Epoch 173/200\n",
            "5/5 [==============================] - 0s 3ms/step - loss: 0.1349 - accuracy: 0.9903\n",
            "Epoch 174/200\n",
            "5/5 [==============================] - 0s 3ms/step - loss: 0.1416 - accuracy: 0.9873\n",
            "Epoch 175/200\n",
            "5/5 [==============================] - 0s 3ms/step - loss: 0.1582 - accuracy: 0.9746\n",
            "Epoch 176/200\n",
            "5/5 [==============================] - 0s 4ms/step - loss: 0.1491 - accuracy: 0.9834\n",
            "Epoch 177/200\n",
            "5/5 [==============================] - 0s 4ms/step - loss: 0.1443 - accuracy: 0.9755\n",
            "Epoch 178/200\n",
            "5/5 [==============================] - 0s 3ms/step - loss: 0.1442 - accuracy: 0.9794\n",
            "Epoch 179/200\n",
            "5/5 [==============================] - 0s 3ms/step - loss: 0.1495 - accuracy: 0.9847\n",
            "Epoch 180/200\n",
            "5/5 [==============================] - 0s 4ms/step - loss: 0.1473 - accuracy: 0.9711\n",
            "Epoch 181/200\n",
            "5/5 [==============================] - 0s 3ms/step - loss: 0.1395 - accuracy: 0.9860\n",
            "Epoch 182/200\n",
            "5/5 [==============================] - 0s 3ms/step - loss: 0.1401 - accuracy: 0.9755\n",
            "Epoch 183/200\n",
            "5/5 [==============================] - 0s 2ms/step - loss: 0.1292 - accuracy: 0.9873\n",
            "Epoch 184/200\n",
            "5/5 [==============================] - 0s 3ms/step - loss: 0.1414 - accuracy: 0.9764\n",
            "Epoch 185/200\n",
            "5/5 [==============================] - 0s 2ms/step - loss: 0.1322 - accuracy: 0.9847\n",
            "Epoch 186/200\n",
            "5/5 [==============================] - 0s 3ms/step - loss: 0.1281 - accuracy: 0.9847\n",
            "Epoch 187/200\n",
            "5/5 [==============================] - 0s 4ms/step - loss: 0.1365 - accuracy: 0.9781\n",
            "Epoch 188/200\n",
            "5/5 [==============================] - 0s 2ms/step - loss: 0.1237 - accuracy: 0.9820\n",
            "Epoch 189/200\n",
            "5/5 [==============================] - 0s 3ms/step - loss: 0.1314 - accuracy: 0.9864\n",
            "Epoch 190/200\n",
            "5/5 [==============================] - 0s 2ms/step - loss: 0.1348 - accuracy: 0.9720\n",
            "Epoch 191/200\n",
            "5/5 [==============================] - 0s 3ms/step - loss: 0.1411 - accuracy: 0.9755\n",
            "Epoch 192/200\n",
            "5/5 [==============================] - 0s 3ms/step - loss: 0.1312 - accuracy: 0.9864\n",
            "Epoch 193/200\n",
            "5/5 [==============================] - 0s 2ms/step - loss: 0.1217 - accuracy: 0.9890\n",
            "Epoch 194/200\n",
            "5/5 [==============================] - 0s 2ms/step - loss: 0.1462 - accuracy: 0.9755\n",
            "Epoch 195/200\n",
            "5/5 [==============================] - 0s 2ms/step - loss: 0.1169 - accuracy: 0.9847\n",
            "Epoch 196/200\n",
            "5/5 [==============================] - 0s 2ms/step - loss: 0.1321 - accuracy: 0.9703\n",
            "Epoch 197/200\n",
            "5/5 [==============================] - 0s 2ms/step - loss: 0.1156 - accuracy: 0.9834\n",
            "Epoch 198/200\n",
            "5/5 [==============================] - 0s 2ms/step - loss: 0.1186 - accuracy: 0.9768\n",
            "Epoch 199/200\n",
            "5/5 [==============================] - 0s 2ms/step - loss: 0.1194 - accuracy: 0.9685\n",
            "Epoch 200/200\n",
            "5/5 [==============================] - 0s 2ms/step - loss: 0.1165 - accuracy: 0.9811\n"
          ],
          "name": "stdout"
        },
        {
          "output_type": "execute_result",
          "data": {
            "text/plain": [
              "<tensorflow.python.keras.callbacks.History at 0x7ff04e510710>"
            ]
          },
          "metadata": {
            "tags": []
          },
          "execution_count": 16
        }
      ]
    },
    {
      "cell_type": "code",
      "metadata": {
        "colab": {
          "base_uri": "https://localhost:8080/"
        },
        "id": "TS0ZeY0scTGg",
        "outputId": "bdcc68b3-5d64-4251-ed09-09dfa256bc1e"
      },
      "source": [
        "print(model.predict(indep[:5]))\r\n",
        "print(dep[:5])"
      ],
      "execution_count": 18,
      "outputs": [
        {
          "output_type": "stream",
          "text": [
            "[[9.9819928e-01 5.6004950e-07 1.8001288e-03]\n",
            " [9.9541795e-01 4.4927519e-06 4.5775687e-03]\n",
            " [9.9731535e-01 2.0992356e-06 2.6825424e-03]\n",
            " [9.9582267e-01 6.7909036e-06 4.1705309e-03]\n",
            " [9.9846494e-01 4.4651722e-07 1.5346654e-03]]\n",
            "   품종_setosa  품종_versicolor  품종_virginica\n",
            "0          1              0             0\n",
            "1          1              0             0\n",
            "2          1              0             0\n",
            "3          1              0             0\n",
            "4          1              0             0\n"
          ],
          "name": "stdout"
        }
      ]
    }
  ]
}