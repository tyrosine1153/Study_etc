{
  "nbformat": 4,
  "nbformat_minor": 0,
  "metadata": {
    "colab": {
      "name": "실습4-Iris.ipynb",
      "provenance": [],
      "toc_visible": true
    },
    "kernelspec": {
      "name": "python3",
      "display_name": "Python 3"
    }
  },
  "cells": [
    {
      "cell_type": "markdown",
      "metadata": {
        "id": "t5hjrWiIWWXh"
      },
      "source": [
        "# Iris"
      ]
    },
    {
      "cell_type": "markdown",
      "metadata": {
        "id": "lGK0CTzSWzdq"
      },
      "source": [
        "아이리스의 품종 분류는 종속변수가 범주형 데이터이므로 분류 알고리즘을 사용한다.  \r\n",
        "출력값이 범주형일때는 출력값이 세개가 필요하다. 각각의 품종이 맞는지 여부를\r\n",
        "표시한 출력값 3개인 것이다.   \r\n",
        "이를 원 핫 인코딩이라고 하는데 종류만큼의 벡터으로 표시하고 해당하는 값을 1, 아니면 0 으로 표시하는 것이다.  \r\n",
        "따라서 벡터의 각 항 값에 들어갈 퍼셉트론은 세개 필요하다. "
      ]
    },
    {
      "cell_type": "markdown",
      "metadata": {
        "id": "pHBPVn-oaYoP"
      },
      "source": [
        "분류 예측은 각 출력마다의 확률로 표현을 한다.  \r\n",
        "각 출력값이 0에서 1사이의 값으로 나타내기 위해 softmax를 사용한다.\r\n",
        "활성화함수(activation function)는 입력값에 대한 Identyity, Softmax 등 신경만의 출력을 결정하는 방식이다. 입력값을 계산하여 나온 결과를 일반화normalization하여 전달한다.  loss는 회귀일때 'mse', 분류일때 'categorical_crossentropy'를 사용한다."
      ]
    },
    {
      "cell_type": "markdown",
      "metadata": {
        "id": "xOMHAmsZZ7Ai"
      },
      "source": [
        "# 1. 과거의 데이터를 준비한다."
      ]
    },
    {
      "cell_type": "code",
      "metadata": {
        "colab": {
          "base_uri": "https://localhost:8080/"
        },
        "id": "Io67JqxQWDkp",
        "outputId": "4b4747d1-6cd4-4a65-f40e-6c35d9f3d127"
      },
      "source": [
        "import pandas as pd\r\n",
        "import tensorflow as tf\r\n",
        "\r\n",
        "iris = pd.read_csv('iris.csv')\r\n",
        "encoding = pd.get_dummies(iris)\r\n",
        "encoding.head()\r\n",
        "\r\n",
        "indep = encoding[['꽃잎길이', '꽃잎폭', '꽃받침길이', '꽃받침폭']]\r\n",
        "dep = encoding[[ '품종_setosa', '품종_versicolor',\r\n",
        "       '품종_virginica']]\r\n",
        "print(indep.shape, dep.shape)"
      ],
      "execution_count": 22,
      "outputs": [
        {
          "output_type": "stream",
          "text": [
            "(150, 4) (150, 3)\n"
          ],
          "name": "stdout"
        }
      ]
    },
    {
      "cell_type": "markdown",
      "metadata": {
        "id": "iZ9usMfGZ74w"
      },
      "source": [
        "# 2. 모델의 구조를 만든다."
      ]
    },
    {
      "cell_type": "code",
      "metadata": {
        "id": "k04KMx2bX8c9"
      },
      "source": [
        "X = tf.keras.layers.Input(shape=[4])\r\n",
        "Y = tf.keras.layers.Dense(3, activation='softmax')(X)\r\n",
        "model = tf.keras.models.Model(X, Y)\r\n",
        "model.compile(loss='categorical_crossentropy',  metrics='accuracy')"
      ],
      "execution_count": 23,
      "outputs": []
    },
    {
      "cell_type": "markdown",
      "metadata": {
        "id": "1WunYihrZ8_m"
      },
      "source": [
        "# 3. 데이터로 모델을 학습(fit)한다."
      ]
    },
    {
      "cell_type": "markdown",
      "metadata": {
        "id": "0fPWgyaJhJji"
      },
      "source": [
        ""
      ]
    },
    {
      "cell_type": "code",
      "metadata": {
        "colab": {
          "base_uri": "https://localhost:8080/"
        },
        "id": "VOZPHICfZ9Iy",
        "outputId": "e5525f69-59b7-4d9a-d1ed-9a4eedb63395"
      },
      "source": [
        "model.fit(indep,dep,epochs=200)"
      ],
      "execution_count": 25,
      "outputs": [
        {
          "output_type": "stream",
          "text": [
            "Epoch 1/200\n",
            "5/5 [==============================] - 0s 2ms/step - loss: 0.9006 - accuracy: 0.4067\n",
            "Epoch 2/200\n",
            "5/5 [==============================] - 0s 2ms/step - loss: 0.8947 - accuracy: 0.4000\n",
            "Epoch 3/200\n",
            "5/5 [==============================] - 0s 2ms/step - loss: 0.8878 - accuracy: 0.4200\n",
            "Epoch 4/200\n",
            "5/5 [==============================] - 0s 2ms/step - loss: 0.8826 - accuracy: 0.4400\n",
            "Epoch 5/200\n",
            "5/5 [==============================] - 0s 2ms/step - loss: 0.8755 - accuracy: 0.4533\n",
            "Epoch 6/200\n",
            "5/5 [==============================] - 0s 2ms/step - loss: 0.8685 - accuracy: 0.4867\n",
            "Epoch 7/200\n",
            "5/5 [==============================] - 0s 2ms/step - loss: 0.8628 - accuracy: 0.4933\n",
            "Epoch 8/200\n",
            "5/5 [==============================] - 0s 2ms/step - loss: 0.8591 - accuracy: 0.5133\n",
            "Epoch 9/200\n",
            "5/5 [==============================] - 0s 2ms/step - loss: 0.8510 - accuracy: 0.5333\n",
            "Epoch 10/200\n",
            "5/5 [==============================] - 0s 7ms/step - loss: 0.8448 - accuracy: 0.5467\n",
            "Epoch 11/200\n",
            "5/5 [==============================] - 0s 2ms/step - loss: 0.8386 - accuracy: 0.5533\n",
            "Epoch 12/200\n",
            "5/5 [==============================] - 0s 3ms/step - loss: 0.8327 - accuracy: 0.5667\n",
            "Epoch 13/200\n",
            "5/5 [==============================] - 0s 2ms/step - loss: 0.8270 - accuracy: 0.5733\n",
            "Epoch 14/200\n",
            "5/5 [==============================] - 0s 4ms/step - loss: 0.8211 - accuracy: 0.6067\n",
            "Epoch 15/200\n",
            "5/5 [==============================] - 0s 4ms/step - loss: 0.8152 - accuracy: 0.6267\n",
            "Epoch 16/200\n",
            "5/5 [==============================] - 0s 2ms/step - loss: 0.8095 - accuracy: 0.6333\n",
            "Epoch 17/200\n",
            "5/5 [==============================] - 0s 2ms/step - loss: 0.8033 - accuracy: 0.6267\n",
            "Epoch 18/200\n",
            "5/5 [==============================] - 0s 2ms/step - loss: 0.7969 - accuracy: 0.6333\n",
            "Epoch 19/200\n",
            "5/5 [==============================] - 0s 2ms/step - loss: 0.7921 - accuracy: 0.6467\n",
            "Epoch 20/200\n",
            "5/5 [==============================] - 0s 2ms/step - loss: 0.7854 - accuracy: 0.6733\n",
            "Epoch 21/200\n",
            "5/5 [==============================] - 0s 2ms/step - loss: 0.7799 - accuracy: 0.6933\n",
            "Epoch 22/200\n",
            "5/5 [==============================] - 0s 2ms/step - loss: 0.7741 - accuracy: 0.6933\n",
            "Epoch 23/200\n",
            "5/5 [==============================] - 0s 2ms/step - loss: 0.7693 - accuracy: 0.6867\n",
            "Epoch 24/200\n",
            "5/5 [==============================] - 0s 2ms/step - loss: 0.7643 - accuracy: 0.6800\n",
            "Epoch 25/200\n",
            "5/5 [==============================] - 0s 2ms/step - loss: 0.7583 - accuracy: 0.7000\n",
            "Epoch 26/200\n",
            "5/5 [==============================] - 0s 2ms/step - loss: 0.7537 - accuracy: 0.7200\n",
            "Epoch 27/200\n",
            "5/5 [==============================] - 0s 2ms/step - loss: 0.7483 - accuracy: 0.7200\n",
            "Epoch 28/200\n",
            "5/5 [==============================] - 0s 2ms/step - loss: 0.7433 - accuracy: 0.7133\n",
            "Epoch 29/200\n",
            "5/5 [==============================] - 0s 2ms/step - loss: 0.7386 - accuracy: 0.6933\n",
            "Epoch 30/200\n",
            "5/5 [==============================] - 0s 2ms/step - loss: 0.7350 - accuracy: 0.7200\n",
            "Epoch 31/200\n",
            "5/5 [==============================] - 0s 2ms/step - loss: 0.7296 - accuracy: 0.7267\n",
            "Epoch 32/200\n",
            "5/5 [==============================] - 0s 2ms/step - loss: 0.7255 - accuracy: 0.7200\n",
            "Epoch 33/200\n",
            "5/5 [==============================] - 0s 2ms/step - loss: 0.7206 - accuracy: 0.6867\n",
            "Epoch 34/200\n",
            "5/5 [==============================] - 0s 2ms/step - loss: 0.7173 - accuracy: 0.7067\n",
            "Epoch 35/200\n",
            "5/5 [==============================] - 0s 2ms/step - loss: 0.7126 - accuracy: 0.7133\n",
            "Epoch 36/200\n",
            "5/5 [==============================] - 0s 2ms/step - loss: 0.7085 - accuracy: 0.7200\n",
            "Epoch 37/200\n",
            "5/5 [==============================] - 0s 2ms/step - loss: 0.7039 - accuracy: 0.7267\n",
            "Epoch 38/200\n",
            "5/5 [==============================] - 0s 2ms/step - loss: 0.6998 - accuracy: 0.7067\n",
            "Epoch 39/200\n",
            "5/5 [==============================] - 0s 2ms/step - loss: 0.6955 - accuracy: 0.7333\n",
            "Epoch 40/200\n",
            "5/5 [==============================] - 0s 2ms/step - loss: 0.6928 - accuracy: 0.7267\n",
            "Epoch 41/200\n",
            "5/5 [==============================] - 0s 2ms/step - loss: 0.6879 - accuracy: 0.7733\n",
            "Epoch 42/200\n",
            "5/5 [==============================] - 0s 2ms/step - loss: 0.6847 - accuracy: 0.7600\n",
            "Epoch 43/200\n",
            "5/5 [==============================] - 0s 2ms/step - loss: 0.6806 - accuracy: 0.7267\n",
            "Epoch 44/200\n",
            "5/5 [==============================] - 0s 2ms/step - loss: 0.6766 - accuracy: 0.7400\n",
            "Epoch 45/200\n",
            "5/5 [==============================] - 0s 2ms/step - loss: 0.6732 - accuracy: 0.7467\n",
            "Epoch 46/200\n",
            "5/5 [==============================] - 0s 2ms/step - loss: 0.6702 - accuracy: 0.7267\n",
            "Epoch 47/200\n",
            "5/5 [==============================] - 0s 2ms/step - loss: 0.6652 - accuracy: 0.7400\n",
            "Epoch 48/200\n",
            "5/5 [==============================] - 0s 2ms/step - loss: 0.6615 - accuracy: 0.7867\n",
            "Epoch 49/200\n",
            "5/5 [==============================] - 0s 2ms/step - loss: 0.6590 - accuracy: 0.7667\n",
            "Epoch 50/200\n",
            "5/5 [==============================] - 0s 2ms/step - loss: 0.6547 - accuracy: 0.7333\n",
            "Epoch 51/200\n",
            "5/5 [==============================] - 0s 2ms/step - loss: 0.6509 - accuracy: 0.7467\n",
            "Epoch 52/200\n",
            "5/5 [==============================] - 0s 5ms/step - loss: 0.6469 - accuracy: 0.7667\n",
            "Epoch 53/200\n",
            "5/5 [==============================] - 0s 2ms/step - loss: 0.6436 - accuracy: 0.7933\n",
            "Epoch 54/200\n",
            "5/5 [==============================] - 0s 6ms/step - loss: 0.6403 - accuracy: 0.7867\n",
            "Epoch 55/200\n",
            "5/5 [==============================] - 0s 3ms/step - loss: 0.6379 - accuracy: 0.7933\n",
            "Epoch 56/200\n",
            "5/5 [==============================] - 0s 3ms/step - loss: 0.6345 - accuracy: 0.7933\n",
            "Epoch 57/200\n",
            "5/5 [==============================] - 0s 3ms/step - loss: 0.6308 - accuracy: 0.8067\n",
            "Epoch 58/200\n",
            "5/5 [==============================] - 0s 3ms/step - loss: 0.6273 - accuracy: 0.8133\n",
            "Epoch 59/200\n",
            "5/5 [==============================] - 0s 3ms/step - loss: 0.6243 - accuracy: 0.8267\n",
            "Epoch 60/200\n",
            "5/5 [==============================] - 0s 2ms/step - loss: 0.6208 - accuracy: 0.8333\n",
            "Epoch 61/200\n",
            "5/5 [==============================] - 0s 3ms/step - loss: 0.6177 - accuracy: 0.8267\n",
            "Epoch 62/200\n",
            "5/5 [==============================] - 0s 3ms/step - loss: 0.6148 - accuracy: 0.8067\n",
            "Epoch 63/200\n",
            "5/5 [==============================] - 0s 3ms/step - loss: 0.6129 - accuracy: 0.8733\n",
            "Epoch 64/200\n",
            "5/5 [==============================] - 0s 3ms/step - loss: 0.6089 - accuracy: 0.8467\n",
            "Epoch 65/200\n",
            "5/5 [==============================] - 0s 3ms/step - loss: 0.6067 - accuracy: 0.7733\n",
            "Epoch 66/200\n",
            "5/5 [==============================] - 0s 3ms/step - loss: 0.6036 - accuracy: 0.8000\n",
            "Epoch 67/200\n",
            "5/5 [==============================] - 0s 3ms/step - loss: 0.6004 - accuracy: 0.8000\n",
            "Epoch 68/200\n",
            "5/5 [==============================] - 0s 4ms/step - loss: 0.5974 - accuracy: 0.8667\n",
            "Epoch 69/200\n",
            "5/5 [==============================] - 0s 2ms/step - loss: 0.5950 - accuracy: 0.8333\n",
            "Epoch 70/200\n",
            "5/5 [==============================] - 0s 2ms/step - loss: 0.5917 - accuracy: 0.8733\n",
            "Epoch 71/200\n",
            "5/5 [==============================] - 0s 3ms/step - loss: 0.5906 - accuracy: 0.8867\n",
            "Epoch 72/200\n",
            "5/5 [==============================] - 0s 2ms/step - loss: 0.5865 - accuracy: 0.8333\n",
            "Epoch 73/200\n",
            "5/5 [==============================] - 0s 3ms/step - loss: 0.5847 - accuracy: 0.8933\n",
            "Epoch 74/200\n",
            "5/5 [==============================] - 0s 3ms/step - loss: 0.5816 - accuracy: 0.8533\n",
            "Epoch 75/200\n",
            "5/5 [==============================] - 0s 2ms/step - loss: 0.5788 - accuracy: 0.8200\n",
            "Epoch 76/200\n",
            "5/5 [==============================] - 0s 2ms/step - loss: 0.5762 - accuracy: 0.8400\n",
            "Epoch 77/200\n",
            "5/5 [==============================] - 0s 4ms/step - loss: 0.5734 - accuracy: 0.8600\n",
            "Epoch 78/200\n",
            "5/5 [==============================] - 0s 3ms/step - loss: 0.5717 - accuracy: 0.8333\n",
            "Epoch 79/200\n",
            "5/5 [==============================] - 0s 2ms/step - loss: 0.5695 - accuracy: 0.8333\n",
            "Epoch 80/200\n",
            "5/5 [==============================] - 0s 2ms/step - loss: 0.5659 - accuracy: 0.8400\n",
            "Epoch 81/200\n",
            "5/5 [==============================] - 0s 2ms/step - loss: 0.5654 - accuracy: 0.8667\n",
            "Epoch 82/200\n",
            "5/5 [==============================] - 0s 2ms/step - loss: 0.5614 - accuracy: 0.8933\n",
            "Epoch 83/200\n",
            "5/5 [==============================] - 0s 4ms/step - loss: 0.5592 - accuracy: 0.8800\n",
            "Epoch 84/200\n",
            "5/5 [==============================] - 0s 3ms/step - loss: 0.5573 - accuracy: 0.8867\n",
            "Epoch 85/200\n",
            "5/5 [==============================] - 0s 3ms/step - loss: 0.5553 - accuracy: 0.8400\n",
            "Epoch 86/200\n",
            "5/5 [==============================] - 0s 3ms/step - loss: 0.5529 - accuracy: 0.9067\n",
            "Epoch 87/200\n",
            "5/5 [==============================] - 0s 3ms/step - loss: 0.5502 - accuracy: 0.8933\n",
            "Epoch 88/200\n",
            "5/5 [==============================] - 0s 2ms/step - loss: 0.5488 - accuracy: 0.8533\n",
            "Epoch 89/200\n",
            "5/5 [==============================] - 0s 2ms/step - loss: 0.5468 - accuracy: 0.8467\n",
            "Epoch 90/200\n",
            "5/5 [==============================] - 0s 2ms/step - loss: 0.5446 - accuracy: 0.8733\n",
            "Epoch 91/200\n",
            "5/5 [==============================] - 0s 2ms/step - loss: 0.5419 - accuracy: 0.9067\n",
            "Epoch 92/200\n",
            "5/5 [==============================] - 0s 2ms/step - loss: 0.5414 - accuracy: 0.8867\n",
            "Epoch 93/200\n",
            "5/5 [==============================] - 0s 2ms/step - loss: 0.5383 - accuracy: 0.9267\n",
            "Epoch 94/200\n",
            "5/5 [==============================] - 0s 2ms/step - loss: 0.5363 - accuracy: 0.9000\n",
            "Epoch 95/200\n",
            "5/5 [==============================] - 0s 2ms/step - loss: 0.5342 - accuracy: 0.8933\n",
            "Epoch 96/200\n",
            "5/5 [==============================] - 0s 2ms/step - loss: 0.5319 - accuracy: 0.9000\n",
            "Epoch 97/200\n",
            "5/5 [==============================] - 0s 2ms/step - loss: 0.5312 - accuracy: 0.9133\n",
            "Epoch 98/200\n",
            "5/5 [==============================] - 0s 2ms/step - loss: 0.5296 - accuracy: 0.8867\n",
            "Epoch 99/200\n",
            "5/5 [==============================] - 0s 4ms/step - loss: 0.5268 - accuracy: 0.9267\n",
            "Epoch 100/200\n",
            "5/5 [==============================] - 0s 2ms/step - loss: 0.5247 - accuracy: 0.9000\n",
            "Epoch 101/200\n",
            "5/5 [==============================] - 0s 2ms/step - loss: 0.5228 - accuracy: 0.9133\n",
            "Epoch 102/200\n",
            "5/5 [==============================] - 0s 2ms/step - loss: 0.5208 - accuracy: 0.9267\n",
            "Epoch 103/200\n",
            "5/5 [==============================] - 0s 2ms/step - loss: 0.5207 - accuracy: 0.9000\n",
            "Epoch 104/200\n",
            "5/5 [==============================] - 0s 2ms/step - loss: 0.5177 - accuracy: 0.9133\n",
            "Epoch 105/200\n",
            "5/5 [==============================] - 0s 3ms/step - loss: 0.5161 - accuracy: 0.9200\n",
            "Epoch 106/200\n",
            "5/5 [==============================] - 0s 2ms/step - loss: 0.5146 - accuracy: 0.9200\n",
            "Epoch 107/200\n",
            "5/5 [==============================] - 0s 2ms/step - loss: 0.5121 - accuracy: 0.9000\n",
            "Epoch 108/200\n",
            "5/5 [==============================] - 0s 2ms/step - loss: 0.5101 - accuracy: 0.9000\n",
            "Epoch 109/200\n",
            "5/5 [==============================] - 0s 8ms/step - loss: 0.5089 - accuracy: 0.9267\n",
            "Epoch 110/200\n",
            "5/5 [==============================] - 0s 4ms/step - loss: 0.5075 - accuracy: 0.8667\n",
            "Epoch 111/200\n",
            "5/5 [==============================] - 0s 4ms/step - loss: 0.5055 - accuracy: 0.9133\n",
            "Epoch 112/200\n",
            "5/5 [==============================] - 0s 4ms/step - loss: 0.5044 - accuracy: 0.9400\n",
            "Epoch 113/200\n",
            "5/5 [==============================] - 0s 3ms/step - loss: 0.5023 - accuracy: 0.9267\n",
            "Epoch 114/200\n",
            "5/5 [==============================] - 0s 3ms/step - loss: 0.5009 - accuracy: 0.9133\n",
            "Epoch 115/200\n",
            "5/5 [==============================] - 0s 2ms/step - loss: 0.4994 - accuracy: 0.9200\n",
            "Epoch 116/200\n",
            "5/5 [==============================] - 0s 2ms/step - loss: 0.4967 - accuracy: 0.9200\n",
            "Epoch 117/200\n",
            "5/5 [==============================] - 0s 2ms/step - loss: 0.4953 - accuracy: 0.9267\n",
            "Epoch 118/200\n",
            "5/5 [==============================] - 0s 3ms/step - loss: 0.4936 - accuracy: 0.9267\n",
            "Epoch 119/200\n",
            "5/5 [==============================] - 0s 5ms/step - loss: 0.4922 - accuracy: 0.9267\n",
            "Epoch 120/200\n",
            "5/5 [==============================] - 0s 3ms/step - loss: 0.4914 - accuracy: 0.9200\n",
            "Epoch 121/200\n",
            "5/5 [==============================] - 0s 3ms/step - loss: 0.4884 - accuracy: 0.9267\n",
            "Epoch 122/200\n",
            "5/5 [==============================] - 0s 2ms/step - loss: 0.4884 - accuracy: 0.9267\n",
            "Epoch 123/200\n",
            "5/5 [==============================] - 0s 3ms/step - loss: 0.4866 - accuracy: 0.9467\n",
            "Epoch 124/200\n",
            "5/5 [==============================] - 0s 2ms/step - loss: 0.4847 - accuracy: 0.9400\n",
            "Epoch 125/200\n",
            "5/5 [==============================] - 0s 3ms/step - loss: 0.4835 - accuracy: 0.9400\n",
            "Epoch 126/200\n",
            "5/5 [==============================] - 0s 3ms/step - loss: 0.4820 - accuracy: 0.9400\n",
            "Epoch 127/200\n",
            "5/5 [==============================] - 0s 2ms/step - loss: 0.4809 - accuracy: 0.9333\n",
            "Epoch 128/200\n",
            "5/5 [==============================] - 0s 2ms/step - loss: 0.4792 - accuracy: 0.9333\n",
            "Epoch 129/200\n",
            "5/5 [==============================] - 0s 3ms/step - loss: 0.4777 - accuracy: 0.9267\n",
            "Epoch 130/200\n",
            "5/5 [==============================] - 0s 2ms/step - loss: 0.4767 - accuracy: 0.9333\n",
            "Epoch 131/200\n",
            "5/5 [==============================] - 0s 4ms/step - loss: 0.4756 - accuracy: 0.9533\n",
            "Epoch 132/200\n",
            "5/5 [==============================] - 0s 6ms/step - loss: 0.4740 - accuracy: 0.9400\n",
            "Epoch 133/200\n",
            "5/5 [==============================] - 0s 3ms/step - loss: 0.4718 - accuracy: 0.9333\n",
            "Epoch 134/200\n",
            "5/5 [==============================] - 0s 3ms/step - loss: 0.4705 - accuracy: 0.9333\n",
            "Epoch 135/200\n",
            "5/5 [==============================] - 0s 2ms/step - loss: 0.4701 - accuracy: 0.9267\n",
            "Epoch 136/200\n",
            "5/5 [==============================] - 0s 2ms/step - loss: 0.4684 - accuracy: 0.9400\n",
            "Epoch 137/200\n",
            "5/5 [==============================] - 0s 6ms/step - loss: 0.4670 - accuracy: 0.9267\n",
            "Epoch 138/200\n",
            "5/5 [==============================] - 0s 3ms/step - loss: 0.4651 - accuracy: 0.9267\n",
            "Epoch 139/200\n",
            "5/5 [==============================] - 0s 3ms/step - loss: 0.4637 - accuracy: 0.9467\n",
            "Epoch 140/200\n",
            "5/5 [==============================] - 0s 3ms/step - loss: 0.4631 - accuracy: 0.9000\n",
            "Epoch 141/200\n",
            "5/5 [==============================] - 0s 2ms/step - loss: 0.4616 - accuracy: 0.9467\n",
            "Epoch 142/200\n",
            "5/5 [==============================] - 0s 2ms/step - loss: 0.4604 - accuracy: 0.9267\n",
            "Epoch 143/200\n",
            "5/5 [==============================] - 0s 2ms/step - loss: 0.4587 - accuracy: 0.9400\n",
            "Epoch 144/200\n",
            "5/5 [==============================] - 0s 2ms/step - loss: 0.4570 - accuracy: 0.9467\n",
            "Epoch 145/200\n",
            "5/5 [==============================] - 0s 5ms/step - loss: 0.4555 - accuracy: 0.9467\n",
            "Epoch 146/200\n",
            "5/5 [==============================] - 0s 3ms/step - loss: 0.4553 - accuracy: 0.9467\n",
            "Epoch 147/200\n",
            "5/5 [==============================] - 0s 2ms/step - loss: 0.4533 - accuracy: 0.9400\n",
            "Epoch 148/200\n",
            "5/5 [==============================] - 0s 4ms/step - loss: 0.4531 - accuracy: 0.9333\n",
            "Epoch 149/200\n",
            "5/5 [==============================] - 0s 2ms/step - loss: 0.4510 - accuracy: 0.9467\n",
            "Epoch 150/200\n",
            "5/5 [==============================] - 0s 7ms/step - loss: 0.4506 - accuracy: 0.9267\n",
            "Epoch 151/200\n",
            "5/5 [==============================] - 0s 3ms/step - loss: 0.4485 - accuracy: 0.9467\n",
            "Epoch 152/200\n",
            "5/5 [==============================] - 0s 3ms/step - loss: 0.4474 - accuracy: 0.9467\n",
            "Epoch 153/200\n",
            "5/5 [==============================] - 0s 3ms/step - loss: 0.4462 - accuracy: 0.9400\n",
            "Epoch 154/200\n",
            "5/5 [==============================] - 0s 3ms/step - loss: 0.4456 - accuracy: 0.9467\n",
            "Epoch 155/200\n",
            "5/5 [==============================] - 0s 3ms/step - loss: 0.4444 - accuracy: 0.9467\n",
            "Epoch 156/200\n",
            "5/5 [==============================] - 0s 2ms/step - loss: 0.4431 - accuracy: 0.9467\n",
            "Epoch 157/200\n",
            "5/5 [==============================] - 0s 4ms/step - loss: 0.4418 - accuracy: 0.9333\n",
            "Epoch 158/200\n",
            "5/5 [==============================] - 0s 4ms/step - loss: 0.4410 - accuracy: 0.9467\n",
            "Epoch 159/200\n",
            "5/5 [==============================] - 0s 4ms/step - loss: 0.4408 - accuracy: 0.9400\n",
            "Epoch 160/200\n",
            "5/5 [==============================] - 0s 4ms/step - loss: 0.4385 - accuracy: 0.9467\n",
            "Epoch 161/200\n",
            "5/5 [==============================] - 0s 2ms/step - loss: 0.4385 - accuracy: 0.9467\n",
            "Epoch 162/200\n",
            "5/5 [==============================] - 0s 2ms/step - loss: 0.4368 - accuracy: 0.9467\n",
            "Epoch 163/200\n",
            "5/5 [==============================] - 0s 2ms/step - loss: 0.4362 - accuracy: 0.9467\n",
            "Epoch 164/200\n",
            "5/5 [==============================] - 0s 2ms/step - loss: 0.4343 - accuracy: 0.9467\n",
            "Epoch 165/200\n",
            "5/5 [==============================] - 0s 2ms/step - loss: 0.4335 - accuracy: 0.9467\n",
            "Epoch 166/200\n",
            "5/5 [==============================] - 0s 2ms/step - loss: 0.4324 - accuracy: 0.9467\n",
            "Epoch 167/200\n",
            "5/5 [==============================] - 0s 2ms/step - loss: 0.4311 - accuracy: 0.9467\n",
            "Epoch 168/200\n",
            "5/5 [==============================] - 0s 2ms/step - loss: 0.4299 - accuracy: 0.9467\n",
            "Epoch 169/200\n",
            "5/5 [==============================] - 0s 4ms/step - loss: 0.4294 - accuracy: 0.9467\n",
            "Epoch 170/200\n",
            "5/5 [==============================] - 0s 2ms/step - loss: 0.4285 - accuracy: 0.9400\n",
            "Epoch 171/200\n",
            "5/5 [==============================] - 0s 3ms/step - loss: 0.4272 - accuracy: 0.9400\n",
            "Epoch 172/200\n",
            "5/5 [==============================] - 0s 2ms/step - loss: 0.4261 - accuracy: 0.9467\n",
            "Epoch 173/200\n",
            "5/5 [==============================] - 0s 2ms/step - loss: 0.4247 - accuracy: 0.9533\n",
            "Epoch 174/200\n",
            "5/5 [==============================] - 0s 2ms/step - loss: 0.4234 - accuracy: 0.9467\n",
            "Epoch 175/200\n",
            "5/5 [==============================] - 0s 2ms/step - loss: 0.4228 - accuracy: 0.9467\n",
            "Epoch 176/200\n",
            "5/5 [==============================] - 0s 2ms/step - loss: 0.4216 - accuracy: 0.9467\n",
            "Epoch 177/200\n",
            "5/5 [==============================] - 0s 2ms/step - loss: 0.4205 - accuracy: 0.9600\n",
            "Epoch 178/200\n",
            "5/5 [==============================] - 0s 2ms/step - loss: 0.4193 - accuracy: 0.9467\n",
            "Epoch 179/200\n",
            "5/5 [==============================] - 0s 2ms/step - loss: 0.4182 - accuracy: 0.9533\n",
            "Epoch 180/200\n",
            "5/5 [==============================] - 0s 3ms/step - loss: 0.4168 - accuracy: 0.9600\n",
            "Epoch 181/200\n",
            "5/5 [==============================] - 0s 2ms/step - loss: 0.4177 - accuracy: 0.9467\n",
            "Epoch 182/200\n",
            "5/5 [==============================] - 0s 2ms/step - loss: 0.4163 - accuracy: 0.9467\n",
            "Epoch 183/200\n",
            "5/5 [==============================] - 0s 2ms/step - loss: 0.4148 - accuracy: 0.9533\n",
            "Epoch 184/200\n",
            "5/5 [==============================] - 0s 2ms/step - loss: 0.4142 - accuracy: 0.9400\n",
            "Epoch 185/200\n",
            "5/5 [==============================] - 0s 2ms/step - loss: 0.4126 - accuracy: 0.9467\n",
            "Epoch 186/200\n",
            "5/5 [==============================] - 0s 5ms/step - loss: 0.4116 - accuracy: 0.9467\n",
            "Epoch 187/200\n",
            "5/5 [==============================] - 0s 2ms/step - loss: 0.4105 - accuracy: 0.9600\n",
            "Epoch 188/200\n",
            "5/5 [==============================] - 0s 2ms/step - loss: 0.4100 - accuracy: 0.9467\n",
            "Epoch 189/200\n",
            "5/5 [==============================] - 0s 4ms/step - loss: 0.4082 - accuracy: 0.9533\n",
            "Epoch 190/200\n",
            "5/5 [==============================] - 0s 5ms/step - loss: 0.4087 - accuracy: 0.9533\n",
            "Epoch 191/200\n",
            "5/5 [==============================] - 0s 3ms/step - loss: 0.4075 - accuracy: 0.9467\n",
            "Epoch 192/200\n",
            "5/5 [==============================] - 0s 5ms/step - loss: 0.4058 - accuracy: 0.9467\n",
            "Epoch 193/200\n",
            "5/5 [==============================] - 0s 3ms/step - loss: 0.4057 - accuracy: 0.9467\n",
            "Epoch 194/200\n",
            "5/5 [==============================] - 0s 3ms/step - loss: 0.4045 - accuracy: 0.9600\n",
            "Epoch 195/200\n",
            "5/5 [==============================] - 0s 2ms/step - loss: 0.4041 - accuracy: 0.9600\n",
            "Epoch 196/200\n",
            "5/5 [==============================] - 0s 2ms/step - loss: 0.4029 - accuracy: 0.9600\n",
            "Epoch 197/200\n",
            "5/5 [==============================] - 0s 2ms/step - loss: 0.4024 - accuracy: 0.9600\n",
            "Epoch 198/200\n",
            "5/5 [==============================] - 0s 2ms/step - loss: 0.4013 - accuracy: 0.9667\n",
            "Epoch 199/200\n",
            "5/5 [==============================] - 0s 2ms/step - loss: 0.4007 - accuracy: 0.9667\n",
            "Epoch 200/200\n",
            "5/5 [==============================] - 0s 2ms/step - loss: 0.4001 - accuracy: 0.9600\n"
          ],
          "name": "stdout"
        },
        {
          "output_type": "execute_result",
          "data": {
            "text/plain": [
              "<tensorflow.python.keras.callbacks.History at 0x7fee42ec92e8>"
            ]
          },
          "metadata": {
            "tags": []
          },
          "execution_count": 25
        }
      ]
    },
    {
      "cell_type": "markdown",
      "metadata": {
        "id": "hI4jicW4Z9RW"
      },
      "source": [
        "# 4. 모델을 사용한다"
      ]
    },
    {
      "cell_type": "code",
      "metadata": {
        "colab": {
          "base_uri": "https://localhost:8080/"
        },
        "id": "yZUGegZNZ9d2",
        "outputId": "b42c0ad2-7942-445a-c360-26f02dfae412"
      },
      "source": [
        "model.predict(indep[:5])"
      ],
      "execution_count": 26,
      "outputs": [
        {
          "output_type": "execute_result",
          "data": {
            "text/plain": [
              "array([[0.928517  , 0.06559115, 0.00589181],\n",
              "       [0.8651353 , 0.12003205, 0.01483269],\n",
              "       [0.9152823 , 0.07645039, 0.00826725],\n",
              "       [0.8861823 , 0.1017077 , 0.01210993],\n",
              "       [0.94102424, 0.05437199, 0.00460379]], dtype=float32)"
            ]
          },
          "metadata": {
            "tags": []
          },
          "execution_count": 26
        }
      ]
    },
    {
      "cell_type": "code",
      "metadata": {
        "colab": {
          "base_uri": "https://localhost:8080/"
        },
        "id": "oR4CUEaHgqQM",
        "outputId": "e132957e-dbca-48e6-b0c6-e718ab083c66"
      },
      "source": [
        "print(dep[:5])"
      ],
      "execution_count": 27,
      "outputs": [
        {
          "output_type": "stream",
          "text": [
            "   품종_setosa  품종_versicolor  품종_virginica\n",
            "0          1              0             0\n",
            "1          1              0             0\n",
            "2          1              0             0\n",
            "3          1              0             0\n",
            "4          1              0             0\n"
          ],
          "name": "stdout"
        }
      ]
    }
  ]
}